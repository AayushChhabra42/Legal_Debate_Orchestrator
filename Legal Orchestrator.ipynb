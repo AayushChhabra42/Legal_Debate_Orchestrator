{
  "cells": [
    {
      "cell_type": "code",
      "id": "N1kTCFKZ7OBLhinufaZsomW2",
      "metadata": {
        "tags": [],
        "id": "N1kTCFKZ7OBLhinufaZsomW2",
        "executionInfo": {
          "status": "ok",
          "timestamp": 1747598826591,
          "user_tz": -330,
          "elapsed": 300,
          "user": {
            "displayName": "",
            "userId": ""
          }
        }
      },
      "source": [
        "import faiss\n",
        "import numpy as np\n",
        "import json\n",
        "from typing import List, Dict\n",
        "import pandas as pd\n",
        "import torch"
      ],
      "execution_count": 17,
      "outputs": []
    },
    {
      "cell_type": "markdown",
      "source": [
        "## Load FAISS index and mappings:\n",
        "\n"
      ],
      "metadata": {
        "id": "qJPeciKApH5D"
      },
      "id": "qJPeciKApH5D"
    },
    {
      "cell_type": "code",
      "source": [
        "# Assume you've saved your index and mapping\n",
        "index = faiss.read_index(\"/content/judgements_hnsw.index\")\n"
      ],
      "metadata": {
        "id": "Dpf49EPKo4A9",
        "executionInfo": {
          "status": "ok",
          "timestamp": 1747598827358,
          "user_tz": -330,
          "elapsed": 1,
          "user": {
            "displayName": "",
            "userId": ""
          }
        }
      },
      "id": "Dpf49EPKo4A9",
      "execution_count": 18,
      "outputs": []
    },
    {
      "cell_type": "code",
      "source": [
        "import bigframes.pandas as bf\n",
        "\n",
        "bf.options.bigquery.location = \"asia-south2\"\n",
        "bf.options.bigquery.project = \"extreme-course-459207-v5\"\n",
        "df = bf.read_gbq(\"extreme-course-459207-v5.legal_judgement_texts.extracted_judgements\")\n",
        "df = df.to_pandas()"
      ],
      "metadata": {
        "colab": {
          "base_uri": "https://localhost:8080/",
          "height": 34
        },
        "id": "J3ASpblv-LNA",
        "executionInfo": {
          "status": "ok",
          "timestamp": 1747598873040,
          "user_tz": -330,
          "elapsed": 4026,
          "user": {
            "displayName": "",
            "userId": ""
          }
        },
        "outputId": "dd7cfaaa-ff6d-495d-d7ea-9263694b4e99"
      },
      "id": "J3ASpblv-LNA",
      "execution_count": 24,
      "outputs": [
        {
          "output_type": "display_data",
          "data": {
            "text/plain": [
              "<IPython.core.display.HTML object>"
            ],
            "text/html": [
              "Query job 8ca70ccb-6e9c-435a-bbb3-6500bfcd0f32 is DONE. 962.9 kB processed. <a target=\"_blank\" href=\"https://console.cloud.google.com/bigquery?project=extreme-course-459207-v5&j=bq:asia-south2:8ca70ccb-6e9c-435a-bbb3-6500bfcd0f32&page=queryresults\">Open Job</a>"
            ]
          },
          "metadata": {}
        }
      ]
    },
    {
      "cell_type": "markdown",
      "source": [
        "## Get embeddings with legalbert"
      ],
      "metadata": {
        "id": "iKFRublrpQdO"
      },
      "id": "iKFRublrpQdO"
    },
    {
      "cell_type": "code",
      "source": [
        "from transformers import AutoTokenizer, AutoModel\n",
        "tokenizer = AutoTokenizer.from_pretrained(\"law-ai/InLegalBERT\")\n",
        "model = AutoModel.from_pretrained(\"law-ai/InLegalBERT\")"
      ],
      "metadata": {
        "id": "lhxd81Suo61X",
        "executionInfo": {
          "status": "ok",
          "timestamp": 1747598878779,
          "user_tz": -330,
          "elapsed": 1368,
          "user": {
            "displayName": "",
            "userId": ""
          }
        }
      },
      "id": "lhxd81Suo61X",
      "execution_count": 25,
      "outputs": []
    },
    {
      "cell_type": "code",
      "source": [
        "def get_embeddings(text):\n",
        "  encoded_input = tokenizer(text, return_tensors=\"pt\")\n",
        "  with torch.no_grad():\n",
        "    model_output = model(**encoded_input)\n",
        "  return model_output.last_hidden_state[:, 0, :].numpy()\n"
      ],
      "metadata": {
        "id": "7pzWfraQpTmi",
        "executionInfo": {
          "status": "ok",
          "timestamp": 1747598879715,
          "user_tz": -330,
          "elapsed": 220,
          "user": {
            "displayName": "",
            "userId": ""
          }
        }
      },
      "id": "7pzWfraQpTmi",
      "execution_count": 26,
      "outputs": []
    },
    {
      "cell_type": "markdown",
      "source": [
        "## Retrieve from faiss"
      ],
      "metadata": {
        "id": "bsfyb_FWpmBX"
      },
      "id": "bsfyb_FWpmBX"
    },
    {
      "cell_type": "code",
      "source": [
        "df.head(2)"
      ],
      "metadata": {
        "colab": {
          "base_uri": "https://localhost:8080/",
          "height": 251
        },
        "id": "y1A_q-Xr-4hS",
        "executionInfo": {
          "status": "ok",
          "timestamp": 1747598882456,
          "user_tz": -330,
          "elapsed": 3,
          "user": {
            "displayName": "",
            "userId": ""
          }
        },
        "outputId": "9ad176b6-27ce-4c41-c2c9-68c06edd0e1f"
      },
      "id": "y1A_q-Xr-4hS",
      "execution_count": 27,
      "outputs": [
        {
          "output_type": "execute_result",
          "data": {
            "text/plain": [
              "                                             parties  \\\n",
              "0  [{'name': 'GIRISH REHANI', 'role': 'Petitioner...   \n",
              "1  [{'name': 'Mohd. Tabrez', 'role': 'Petitioner'...   \n",
              "\n",
              "                                               facts  \\\n",
              "0  The petitioner, Girish Rehani, filed a petitio...   \n",
              "1  The petitioner, Mohd. Tabrez, seeks regular ba...   \n",
              "\n",
              "                                             rulings  \\\n",
              "0  The court granted the petition and extended th...   \n",
              "1  The court dismissed the bail application of Mo...   \n",
              "\n",
              "                                     legal_citations  \\\n",
              "0  ['Section 29A(4) of the Arbitration and Concil...   \n",
              "1  ['Section 439 of the Code of Criminal Procedur...   \n",
              "\n",
              "                                     id  \\\n",
              "0  f00eddea-a05e-4ea2-aef2-715375bacf00   \n",
              "1  997ebb55-891f-4fba-aec4-9ef28a63e295   \n",
              "\n",
              "                                      embedding_text  \\\n",
              "0  Facts: The petitioner, Girish Rehani, filed a ...   \n",
              "1  Facts: The petitioner, Mohd. Tabrez, seeks reg...   \n",
              "\n",
              "                                           embedding  \n",
              "0  [-2.19421834e-01 -1.74186990e-01  3.12896073e-...  \n",
              "1  [-3.79319996e-01 -6.66519254e-02  7.61400163e-...  "
            ],
            "text/html": [
              "\n",
              "  <div id=\"df-0a506491-6053-4a05-9b46-1e8fd814f3f2\" class=\"colab-df-container\">\n",
              "    <div>\n",
              "<style scoped>\n",
              "    .dataframe tbody tr th:only-of-type {\n",
              "        vertical-align: middle;\n",
              "    }\n",
              "\n",
              "    .dataframe tbody tr th {\n",
              "        vertical-align: top;\n",
              "    }\n",
              "\n",
              "    .dataframe thead th {\n",
              "        text-align: right;\n",
              "    }\n",
              "</style>\n",
              "<table border=\"1\" class=\"dataframe\">\n",
              "  <thead>\n",
              "    <tr style=\"text-align: right;\">\n",
              "      <th></th>\n",
              "      <th>parties</th>\n",
              "      <th>facts</th>\n",
              "      <th>rulings</th>\n",
              "      <th>legal_citations</th>\n",
              "      <th>id</th>\n",
              "      <th>embedding_text</th>\n",
              "      <th>embedding</th>\n",
              "    </tr>\n",
              "  </thead>\n",
              "  <tbody>\n",
              "    <tr>\n",
              "      <th>0</th>\n",
              "      <td>[{'name': 'GIRISH REHANI', 'role': 'Petitioner...</td>\n",
              "      <td>The petitioner, Girish Rehani, filed a petitio...</td>\n",
              "      <td>The court granted the petition and extended th...</td>\n",
              "      <td>['Section 29A(4) of the Arbitration and Concil...</td>\n",
              "      <td>f00eddea-a05e-4ea2-aef2-715375bacf00</td>\n",
              "      <td>Facts: The petitioner, Girish Rehani, filed a ...</td>\n",
              "      <td>[-2.19421834e-01 -1.74186990e-01  3.12896073e-...</td>\n",
              "    </tr>\n",
              "    <tr>\n",
              "      <th>1</th>\n",
              "      <td>[{'name': 'Mohd. Tabrez', 'role': 'Petitioner'...</td>\n",
              "      <td>The petitioner, Mohd. Tabrez, seeks regular ba...</td>\n",
              "      <td>The court dismissed the bail application of Mo...</td>\n",
              "      <td>['Section 439 of the Code of Criminal Procedur...</td>\n",
              "      <td>997ebb55-891f-4fba-aec4-9ef28a63e295</td>\n",
              "      <td>Facts: The petitioner, Mohd. Tabrez, seeks reg...</td>\n",
              "      <td>[-3.79319996e-01 -6.66519254e-02  7.61400163e-...</td>\n",
              "    </tr>\n",
              "  </tbody>\n",
              "</table>\n",
              "</div>\n",
              "    <div class=\"colab-df-buttons\">\n",
              "\n",
              "  <div class=\"colab-df-container\">\n",
              "    <button class=\"colab-df-convert\" onclick=\"convertToInteractive('df-0a506491-6053-4a05-9b46-1e8fd814f3f2')\"\n",
              "            title=\"Convert this dataframe to an interactive table.\"\n",
              "            style=\"display:none;\">\n",
              "\n",
              "  <svg xmlns=\"http://www.w3.org/2000/svg\" height=\"24px\" viewBox=\"0 -960 960 960\">\n",
              "    <path d=\"M120-120v-720h720v720H120Zm60-500h600v-160H180v160Zm220 220h160v-160H400v160Zm0 220h160v-160H400v160ZM180-400h160v-160H180v160Zm440 0h160v-160H620v160ZM180-180h160v-160H180v160Zm440 0h160v-160H620v160Z\"/>\n",
              "  </svg>\n",
              "    </button>\n",
              "\n",
              "  <style>\n",
              "    .colab-df-container {\n",
              "      display:flex;\n",
              "      gap: 12px;\n",
              "    }\n",
              "\n",
              "    .colab-df-convert {\n",
              "      background-color: #E8F0FE;\n",
              "      border: none;\n",
              "      border-radius: 50%;\n",
              "      cursor: pointer;\n",
              "      display: none;\n",
              "      fill: #1967D2;\n",
              "      height: 32px;\n",
              "      padding: 0 0 0 0;\n",
              "      width: 32px;\n",
              "    }\n",
              "\n",
              "    .colab-df-convert:hover {\n",
              "      background-color: #E2EBFA;\n",
              "      box-shadow: 0px 1px 2px rgba(60, 64, 67, 0.3), 0px 1px 3px 1px rgba(60, 64, 67, 0.15);\n",
              "      fill: #174EA6;\n",
              "    }\n",
              "\n",
              "    .colab-df-buttons div {\n",
              "      margin-bottom: 4px;\n",
              "    }\n",
              "\n",
              "    [theme=dark] .colab-df-convert {\n",
              "      background-color: #3B4455;\n",
              "      fill: #D2E3FC;\n",
              "    }\n",
              "\n",
              "    [theme=dark] .colab-df-convert:hover {\n",
              "      background-color: #434B5C;\n",
              "      box-shadow: 0px 1px 3px 1px rgba(0, 0, 0, 0.15);\n",
              "      filter: drop-shadow(0px 1px 2px rgba(0, 0, 0, 0.3));\n",
              "      fill: #FFFFFF;\n",
              "    }\n",
              "  </style>\n",
              "\n",
              "    <script>\n",
              "      const buttonEl =\n",
              "        document.querySelector('#df-0a506491-6053-4a05-9b46-1e8fd814f3f2 button.colab-df-convert');\n",
              "      buttonEl.style.display =\n",
              "        google.colab.kernel.accessAllowed ? 'block' : 'none';\n",
              "\n",
              "      async function convertToInteractive(key) {\n",
              "        const element = document.querySelector('#df-0a506491-6053-4a05-9b46-1e8fd814f3f2');\n",
              "        const dataTable =\n",
              "          await google.colab.kernel.invokeFunction('convertToInteractive',\n",
              "                                                    [key], {});\n",
              "        if (!dataTable) return;\n",
              "\n",
              "        const docLinkHtml = 'Like what you see? Visit the ' +\n",
              "          '<a target=\"_blank\" href=https://colab.research.google.com/notebooks/data_table.ipynb>data table notebook</a>'\n",
              "          + ' to learn more about interactive tables.';\n",
              "        element.innerHTML = '';\n",
              "        dataTable['output_type'] = 'display_data';\n",
              "        await google.colab.output.renderOutput(dataTable, element);\n",
              "        const docLink = document.createElement('div');\n",
              "        docLink.innerHTML = docLinkHtml;\n",
              "        element.appendChild(docLink);\n",
              "      }\n",
              "    </script>\n",
              "  </div>\n",
              "\n",
              "\n",
              "<div id=\"df-d2878a9e-2e74-4506-a48a-c8af14fe21cc\">\n",
              "  <button class=\"colab-df-quickchart\" onclick=\"quickchart('df-d2878a9e-2e74-4506-a48a-c8af14fe21cc')\"\n",
              "            title=\"Suggest charts\"\n",
              "            style=\"display:none;\">\n",
              "\n",
              "<svg xmlns=\"http://www.w3.org/2000/svg\" height=\"24px\"viewBox=\"0 0 24 24\"\n",
              "     width=\"24px\">\n",
              "    <g>\n",
              "        <path d=\"M19 3H5c-1.1 0-2 .9-2 2v14c0 1.1.9 2 2 2h14c1.1 0 2-.9 2-2V5c0-1.1-.9-2-2-2zM9 17H7v-7h2v7zm4 0h-2V7h2v10zm4 0h-2v-4h2v4z\"/>\n",
              "    </g>\n",
              "</svg>\n",
              "  </button>\n",
              "\n",
              "<style>\n",
              "  .colab-df-quickchart {\n",
              "      --bg-color: #E8F0FE;\n",
              "      --fill-color: #1967D2;\n",
              "      --hover-bg-color: #E2EBFA;\n",
              "      --hover-fill-color: #174EA6;\n",
              "      --disabled-fill-color: #AAA;\n",
              "      --disabled-bg-color: #DDD;\n",
              "  }\n",
              "\n",
              "  [theme=dark] .colab-df-quickchart {\n",
              "      --bg-color: #3B4455;\n",
              "      --fill-color: #D2E3FC;\n",
              "      --hover-bg-color: #434B5C;\n",
              "      --hover-fill-color: #FFFFFF;\n",
              "      --disabled-bg-color: #3B4455;\n",
              "      --disabled-fill-color: #666;\n",
              "  }\n",
              "\n",
              "  .colab-df-quickchart {\n",
              "    background-color: var(--bg-color);\n",
              "    border: none;\n",
              "    border-radius: 50%;\n",
              "    cursor: pointer;\n",
              "    display: none;\n",
              "    fill: var(--fill-color);\n",
              "    height: 32px;\n",
              "    padding: 0;\n",
              "    width: 32px;\n",
              "  }\n",
              "\n",
              "  .colab-df-quickchart:hover {\n",
              "    background-color: var(--hover-bg-color);\n",
              "    box-shadow: 0 1px 2px rgba(60, 64, 67, 0.3), 0 1px 3px 1px rgba(60, 64, 67, 0.15);\n",
              "    fill: var(--button-hover-fill-color);\n",
              "  }\n",
              "\n",
              "  .colab-df-quickchart-complete:disabled,\n",
              "  .colab-df-quickchart-complete:disabled:hover {\n",
              "    background-color: var(--disabled-bg-color);\n",
              "    fill: var(--disabled-fill-color);\n",
              "    box-shadow: none;\n",
              "  }\n",
              "\n",
              "  .colab-df-spinner {\n",
              "    border: 2px solid var(--fill-color);\n",
              "    border-color: transparent;\n",
              "    border-bottom-color: var(--fill-color);\n",
              "    animation:\n",
              "      spin 1s steps(1) infinite;\n",
              "  }\n",
              "\n",
              "  @keyframes spin {\n",
              "    0% {\n",
              "      border-color: transparent;\n",
              "      border-bottom-color: var(--fill-color);\n",
              "      border-left-color: var(--fill-color);\n",
              "    }\n",
              "    20% {\n",
              "      border-color: transparent;\n",
              "      border-left-color: var(--fill-color);\n",
              "      border-top-color: var(--fill-color);\n",
              "    }\n",
              "    30% {\n",
              "      border-color: transparent;\n",
              "      border-left-color: var(--fill-color);\n",
              "      border-top-color: var(--fill-color);\n",
              "      border-right-color: var(--fill-color);\n",
              "    }\n",
              "    40% {\n",
              "      border-color: transparent;\n",
              "      border-right-color: var(--fill-color);\n",
              "      border-top-color: var(--fill-color);\n",
              "    }\n",
              "    60% {\n",
              "      border-color: transparent;\n",
              "      border-right-color: var(--fill-color);\n",
              "    }\n",
              "    80% {\n",
              "      border-color: transparent;\n",
              "      border-right-color: var(--fill-color);\n",
              "      border-bottom-color: var(--fill-color);\n",
              "    }\n",
              "    90% {\n",
              "      border-color: transparent;\n",
              "      border-bottom-color: var(--fill-color);\n",
              "    }\n",
              "  }\n",
              "</style>\n",
              "\n",
              "  <script>\n",
              "    async function quickchart(key) {\n",
              "      const quickchartButtonEl =\n",
              "        document.querySelector('#' + key + ' button');\n",
              "      quickchartButtonEl.disabled = true;  // To prevent multiple clicks.\n",
              "      quickchartButtonEl.classList.add('colab-df-spinner');\n",
              "      try {\n",
              "        const charts = await google.colab.kernel.invokeFunction(\n",
              "            'suggestCharts', [key], {});\n",
              "      } catch (error) {\n",
              "        console.error('Error during call to suggestCharts:', error);\n",
              "      }\n",
              "      quickchartButtonEl.classList.remove('colab-df-spinner');\n",
              "      quickchartButtonEl.classList.add('colab-df-quickchart-complete');\n",
              "    }\n",
              "    (() => {\n",
              "      let quickchartButtonEl =\n",
              "        document.querySelector('#df-d2878a9e-2e74-4506-a48a-c8af14fe21cc button');\n",
              "      quickchartButtonEl.style.display =\n",
              "        google.colab.kernel.accessAllowed ? 'block' : 'none';\n",
              "    })();\n",
              "  </script>\n",
              "</div>\n",
              "\n",
              "    </div>\n",
              "  </div>\n"
            ],
            "application/vnd.google.colaboratory.intrinsic+json": {
              "type": "dataframe",
              "variable_name": "df",
              "repr_error": "Function 'unique' has no kernel matching input types (list<item: struct<name: string, role: string>>)"
            }
          },
          "metadata": {},
          "execution_count": 27
        }
      ]
    },
    {
      "cell_type": "code",
      "source": [
        "def case_summary(parties,facts,rulings,legal_citations):\n",
        "  return f\"\"\"\n",
        "  parties: {parties}\n",
        "  facts: {facts}\n",
        "  rulings: {rulings}\n",
        "  legal_citations: {legal_citations}\n",
        "  \"\"\""
      ],
      "metadata": {
        "id": "c9BTnXuV-zds",
        "executionInfo": {
          "status": "ok",
          "timestamp": 1747598886183,
          "user_tz": -330,
          "elapsed": 285,
          "user": {
            "displayName": "",
            "userId": ""
          }
        }
      },
      "id": "c9BTnXuV-zds",
      "execution_count": 28,
      "outputs": []
    },
    {
      "cell_type": "code",
      "source": [
        "def retrieve_cases(query: str, top_k=5) -> str:\n",
        "    query_vec = get_embeddings(query)  #\n",
        "    if len(query_vec.shape) == 1:\n",
        "        query_vec = np.expand_dims(query_vec.astype(\"float32\"), axis=0)\n",
        "    elif len(query_vec.shape) == 2 and query_vec.shape[0] != 1:\n",
        "        raise ValueError(\"Expected a single query vector\")\n",
        "\n",
        "    if not hasattr(index, \"d\"):\n",
        "        raise ValueError(\"FAISS index is not initialized\")\n",
        "\n",
        "    # Perform search\n",
        "    distances, indices = index.search(query_vec, top_k)\n",
        "\n",
        "    # Generate case summaries\n",
        "    cases = []\n",
        "    for idx in indices[0]:\n",
        "        row = df.iloc[idx]\n",
        "        summary = case_summary(row[\"parties\"], row[\"facts\"], row[\"rulings\"], row[\"legal_citations\"])\n",
        "        cases.append(summary)\n",
        "\n",
        "    return \"\\n\".join(cases)\n"
      ],
      "metadata": {
        "id": "ub6D1ewzpg0l",
        "executionInfo": {
          "status": "ok",
          "timestamp": 1747599714527,
          "user_tz": -330,
          "elapsed": 213,
          "user": {
            "displayName": "",
            "userId": ""
          }
        }
      },
      "id": "ub6D1ewzpg0l",
      "execution_count": 46,
      "outputs": []
    },
    {
      "cell_type": "code",
      "source": [
        "query=\"Diploma-holding engineers with 10+ years of experience were denied promotion to a Gazetted post requiring a degree. They relied on an old government circular claiming equivalence, but the department rejected it, stating it wasn’t officially notified. Should the court accept the equivalence and allow promotion?\"\n",
        "retrieve_cases(query,5)"
      ],
      "metadata": {
        "colab": {
          "base_uri": "https://localhost:8080/",
          "height": 1000
        },
        "id": "KhhWFZjSDagk",
        "executionInfo": {
          "status": "ok",
          "timestamp": 1747599813494,
          "user_tz": -330,
          "elapsed": 230,
          "user": {
            "displayName": "",
            "userId": ""
          }
        },
        "outputId": "70d4d740-2f21-4a2e-a983-8800376690b6"
      },
      "id": "KhhWFZjSDagk",
      "execution_count": 48,
      "outputs": [
        {
          "output_type": "execute_result",
          "data": {
            "text/plain": [
              "\"\\n  parties: [{'name': 'J.B.BODA SURVEYORS LTD.', 'role': 'Petitioner'}, {'name': 'SURE SH KUMAR SHARMA', 'role': 'Respondent'}]\\n  facts: The petitioner, J.B.Boda Surveyors Ltd., is a company engaged in the business of running surveyors. The respondent, Suresh Kumar Sharma, was employed by the petitioner from 1992 until 1998. The petitioner claims that the respondent abandoned his services in 1998. The respondent raised a dispute regarding illegal termination, which was referred to the Labour Court. The Labour Court ruled in favor of the respondent, directing the petitioner to reinstate him with 50% backwages. The petitioner is challenging this award.\\n  rulings: The Court dismissed the petition, upholding the Labour Court's award. The Court found no reason to interfere with the Labour Court's decision, stating that the Labour Court rightly adjudicated the dispute and allowed the claim of the respondent workman after giving due consideration to the settled position of law, and thus the impugned award does not suffer with any illegality.\\n  legal_citations: ['Section 25-F of the Industrial Disputes Act, 1947', 'Section 2(oo) of the I.D. Act, 1947', 'M.L. Binjolkar Vs. State of M.P (2005) 6 see 224', 'Kendriya Vidyalaya Sangathan Vs. S.C. Sharma (2005) 2 SCC 363', 'Article 226']\\n  \\n\\n  parties: [{'name': 'M/S VOLUNTEER FOR VILLAGE DEVELOPMENT', 'role': 'Petitioner'}, {'name': 'M/S INNOVATIVE FINANCIAL ADVISORS PVT. LTD.', 'role': 'Respondent'}]\\n  facts: The petitioner, a non-profit organization, entered into a Fund Raising Services Agreement with the respondent on 03.03.2020. The respondent was to provide services to access corporate social responsibility funds. The petitioner paid an advance of Rs. 12,09,500/- including GST. The petitioner claims the respondent failed to comply with the agreement and did not refund any amount. The petitioner invoked the arbitration clause via a legal notice dated 21.08.2023, but received no response. The petitioner seeks Rs.14,72,000/- (Rs.4,72,000/- paid to the respondent and Rs.10,00,000/- towards mental pressure and loss of business).\\n  rulings: The court allowed the petition and appointed Ms. Radhika Dubey, Advocate, as the Arbitrator to adjudicate the disputes between the parties. The fees of the Arbitrator would be fixed in accordance with the Fourth Schedule of the Act, 1996 or as consented by the parties. The arbitration shall be conducted under the aegis of Delhi International Arbitration Centre, Delhi High Court.\\n  legal_citations: ['Section 11(6) of the Arbitration and Conciliation Act, 1996', 'Section 12(1) of the Act, 1996', 'Section 12(5) of the Act, 1996']\\n  \\n\\n  parties: [{'name': 'M/S INNOVATIVE CRAFTS', 'role': 'Petitioner'}, {'name': 'UNION OF INDIA', 'role': 'Respondent'}, {'name': 'ORS', 'role': 'Respondent'}]\\n  facts: The petitioner, M/S Innovative Crafts, an exporter of handicrafts, availed duty drawback on 24 consignments of brass, copper, and iron handicrafts exported to M/s. Metal Masters, UAE, between 08.12.2014 and 13.12.2014. An enquiry was initiated based on information from IndusInd Bank, Moradabad Branch, revealing multiple receipts claimed as duty drawback. The enquiry indicated that the petitioner claimed to have purchased the exported goods from M/s. Maxwell Impex, which was found to be non-existent, and the export proceeds were received from third parties, not the consignees. A Show Cause Notice was issued on 27.06.2017 for recovery of the drawback amount of Rs. 79,45,653/-, which was confirmed by the Additional Commissioner of Customs on 31.01.2018, along with a penalty of Rs. 1,50,00,000/-. The appeal and revision application were dismissed, leading to the present writ petition.\\n  rulings: The court set aside the revision order dated 18.08.2022 and directed the respondents to defreeze the petitioner's bank account held at IndusInd Bank, Moradabad Branch. The court found that the payments were received from third parties specifically named in the agreement dated 05.10.2014, which was backed by a firm irrevocable purchase order dated 05.10.2014. The e-BRCs have been issued by the DGFT after verification from the bank confirming the receipt of payments. Since export proceeds have been realized within the stipulated period as prescribed in FEMA, the court is of the view that petitioner is entitled for the grant of duty drawback and there is no justification for freezing of the bank account of the petitioner.\\n  legal_citations: ['Customs Act, 1962 Section 76(1)(b)', 'Customs Act, 1962 Section 75A(2)', 'Customs Act, 1962 Section 28AA', 'Customs Act, 1962 Section 114AA', 'Customs Act, 1962 Section 108', 'Customs, Central Excise Duties & Service Tax Drawback Rules, 1995 Rule 16/16A', 'Foreign Exchange Management Act, 1999 (42 of 1999)', 'RBI Master Circular No. 14/2013-14 dated 01.07.2013', 'RBI Master Circular No. 14/2014-15 dated 01.07.2014']\\n  \\n\\n  parties: [{'name': 'Sudhir Kumar & Ors.', 'role': 'Petitioners'}, {'name': 'State of NCT of Delhi & Ors.', 'role': 'Respondents'}, {'name': 'LR Builders Pvt. Ltd.', 'role': 'Respondent No.2'}, {'name': 'Rahul Gupta', 'role': 'Respondent No.3'}, {'name': 'M/s. P.P. Jewellers (Exports)', 'role': 'Borrower'}, {'name': 'M/s. P.P. Jewellers (Delhi)', 'role': 'Borrower'}, {'name': 'Kamal Kumar Gupta', 'role': 'Partner in M/s. P.P. Jewellers (Exports) and M/s. P.P. Jewellers (Delhi)'}, {'name': 'Veena Gupta', 'role': 'Partner in M/s. P.P. Jewellers (Exports)'}, {'name': 'Mukesh Gupta', 'role': 'Partner in M/s. P.P. Jewellers (Delhi)'}]\\n  facts: Petitioners, officials of State Bank of India (SBI), are accused of criminal breach of trust and conspiracy for not releasing title deeds of a property to Respondent No.2, LR Builders Pvt. Ltd., after a loan taken by M/s. P.P. Jewellers (Exports), for which Respondent No.2 was a guarantor, was settled under a One Time Settlement (OTS) scheme. SBI claims a general lien on the property for other outstanding loans to M/s. P.P. Jewellers (Delhi), for which Respondent No.2 is also a guarantor. Respondent No.2 alleges that a clause in the OTS allowing SBI to retain the property as security for other loans was inserted without their consent. Several legal proceedings have occurred regarding the release of the title deeds, including a writ petition and applications before Debt Recovery Tribunals (DRTs) and Debts Recovery Appellate Tribunal (DRAT).\\n  rulings: The High Court allowed the writ petition and quashed FIR No. 106/2022 and all proceedings emanating therefrom, holding that SBI was justified in exercising its right of general lien over the subject property under Section 171 of the Indian Contract Act, 1872, and that the dispute was essentially civil in nature. The Court found that the essential ingredients of Section 405 IPC were not made out, as the Petitioners were acting in their official capacity and there was no misappropriation of the title deeds.\\n  legal_citations: ['Article 226 of the Constitution of India', 'Section 482 Cr.P.C.', 'Sections 409/120B IPC', 'Section 171 of the Indian Contract Act, 1872', 'Section 148 of the Indian Contract Act, 1872', 'Recovery of Debts and Bankruptcy Act, 1993', 'Board of Trustees of the Port of Bombay and Others v. Sriyanesh Knitters, (1999) 7 SCC 359', 'Syndicate Bank v. Vijay Kumar and Others, (1992) 2 SCC 330', 'Raj Kumar & Anr. v. Syndicate Bank, 2016 SCC OnLine Del 4726', 'Sadhna Gupta & Ors. v. R.C. Gupta & Ors., 2009 SCC OnLine Del 2334', 'C.R. Ramachary and Another v. Indian Overseas Bank and Others, 2018 SCC OnLine Mad 3298', 'Dr. Sonia Verma and Another v. State of Haryana and Another, 2024 SCC OnLine SC 349', 'Paramjeet Batra v. State of Uttarakhand and Others, (2013) 11 SCC 673', 'Ramdev Food Products Private Limited v. State of Gujarat, (2015) 6 SCC 439', 'Sardar Singh v. State of Haryana, (1977) 1 SCC 463', 'N. Raghavender v. State of Andhra Pradesh, CBI, (2021) 18 SCC 70', 'State of Haryana and Others v. Bhajan Lal and Others, 1992 Supp. (1) SCC 335', 'P. Chidambaram v. Directorate of Enforcement, (2019) 9 SCC 24', 'Neeharika Infrastructure Private Limited v. State of Maharashtra and Others, (2021) 19 SCC 401', 'State Bank of India v. Jayanthi, Aarthi Lakshmi and Sanjai Balaji AIR 2011 Mad. 179', 'Satish Mohan Aggarwal v. State and Others, 2022 SCC OnLine Del 1646', 'Anand Kumar Mohatta v. State (NCT of Delhi), Department of Home, (2019) 11 SCC 706', 'Krishna Lal Chawla v. State of U.P., (2021) 5 SCC 435', 'R. Nagender Yadav v. State of Telangana and Another, (2023) 2 SCC 195', 'Prof. R.K. Vijayasarathy and Another v. Sudha Seetharam and Another, (2019) 16 SCC 739']\\n  \\n\\n  parties: [{'name': 'VIJAY PANDEY', 'role': 'Appellant'}, {'name': 'STATE OF NCT OF DELHI', 'role': 'Respondent'}, {'name': 'RAJU SINGH', 'role': 'Appellant'}]\\n  facts: On the night of 03.08.2011, the appellants Vijay Pandey and Raju Singh, along with Inder Kumar and Narender Kumar, attacked Raj Kumar, Sanjeev Kumar, and Anil Kumar with sticks, resulting in injuries and the subsequent death of Anil Kumar. FIR No. 302/11 was registered under Sections 302/308/323/34 of the IPC at PS Seemapuri. The appellants were convicted under Sections 323/304(II)/308/34 of the IPC. Key witnesses PW-1 and PW-2 were re-examined in 2019, years after their initial testimonies, and the appellants were not re-examined under Section 313 of the CrPC following this re-examination.\\n  rulings: The court allowed the appeals and set aside the impugned judgment. The case was remanded back to the trial court for proceeding with the matter afresh from the stage of recording statement under Section 313 of the CrPC. The appellants were granted bail pending the retrial.\\n  legal_citations: ['Sections 302/308/323/34 of the Indian Penal Code, 1860 (‘IPC’)', 'Section 313 of the CrPC', 'Nar Singh v. State of Haryana  : (2015) 1 SCC 496', 'Basavaraj R. Patil v. State of Karnataka  : (2000) 8 SCC 740', 'Jai Dev v. State of Punjab [AIR 1963 SC 612 : (1963) 1 Cri LJ 495]', 'Kuldip Singh v. State of Delhi , (2003) 12 SCC 528', 'Section 386 of the CrPC']\\n  \""
            ],
            "application/vnd.google.colaboratory.intrinsic+json": {
              "type": "string"
            }
          },
          "metadata": {},
          "execution_count": 48
        }
      ]
    },
    {
      "cell_type": "markdown",
      "source": [
        "## Agentic flow"
      ],
      "metadata": {
        "id": "YUunffWEqDOs"
      },
      "id": "YUunffWEqDOs"
    },
    {
      "cell_type": "code",
      "source": [
        "from google import genai\n",
        "from google.genai import types\n",
        "\n",
        "client = genai.Client(\n",
        "    vertexai=True,\n",
        "    project=\"extreme-course-459207-v5\",\n",
        "    location=\"us-central1\",\n",
        ")\n"
      ],
      "metadata": {
        "id": "gkaE4uHzCEGQ",
        "executionInfo": {
          "status": "ok",
          "timestamp": 1747600642889,
          "user_tz": -330,
          "elapsed": 301,
          "user": {
            "displayName": "",
            "userId": ""
          }
        }
      },
      "id": "gkaE4uHzCEGQ",
      "execution_count": 89,
      "outputs": []
    },
    {
      "cell_type": "code",
      "source": [
        "def gemini_generate(prompt: str, model: str = \"publishers/google/models/gemini-2.5-flash-preview-04-17\") -> str:\n",
        "\n",
        "    text = types.Part.from_text(text=prompt)\n",
        "    contents = [\n",
        "      types.Content(\n",
        "        role=\"user\",\n",
        "        parts=[\n",
        "          text\n",
        "        ]\n",
        "      )\n",
        "    ]\n",
        "    generate_content_config = types.GenerateContentConfig(\n",
        "      temperature = 0.30,\n",
        "      top_p = 0.95,\n",
        "      seed = 0,\n",
        "      max_output_tokens = 8192,\n",
        "      response_modalities = [\"TEXT\"],\n",
        "      safety_settings = [types.SafetySetting(\n",
        "        category=\"HARM_CATEGORY_HATE_SPEECH\",\n",
        "        threshold=\"OFF\"\n",
        "      ),types.SafetySetting(\n",
        "        category=\"HARM_CATEGORY_DANGEROUS_CONTENT\",\n",
        "        threshold=\"OFF\"\n",
        "      ),types.SafetySetting(\n",
        "        category=\"HARM_CATEGORY_SEXUALLY_EXPLICIT\",\n",
        "        threshold=\"OFF\"\n",
        "      ),types.SafetySetting(\n",
        "        category=\"HARM_CATEGORY_HARASSMENT\",\n",
        "        threshold=\"OFF\"\n",
        "      )],\n",
        "    )\n",
        "\n",
        "    result=\"\"\n",
        "\n",
        "    for chunk in client.models.generate_content_stream(\n",
        "      model = model,\n",
        "      contents = contents,\n",
        "      config = generate_content_config,\n",
        "      ):\n",
        "      result+=chunk.text+\"\"\n",
        "\n",
        "    return result\n"
      ],
      "metadata": {
        "id": "jcbmSP4OCRmE",
        "executionInfo": {
          "status": "ok",
          "timestamp": 1747600643906,
          "user_tz": -330,
          "elapsed": 1,
          "user": {
            "displayName": "",
            "userId": ""
          }
        }
      },
      "id": "jcbmSP4OCRmE",
      "execution_count": 90,
      "outputs": []
    },
    {
      "cell_type": "code",
      "source": [
        "def plaintiff_agent(round_num, case_facts, retrieved, conversation_so_far=None, defendant_last=None):\n",
        "    if round_num == 1:\n",
        "        prompt = f\"\"\"You are a seasoned plaintiff attorney preparing an opening.\n",
        "Retrieved Precedent Cases:\n",
        "{retrieved}\n",
        "\n",
        "Based on the facts, legal precedents, and prior exchanges,\n",
        "generate a persuasive and well-reasoned legal argument supporting the plaintiff's position.\n",
        "Highlight relevant statutes or rulings and strategically counter any opposing points.\n",
        "\"\"\"\n",
        "    else:\n",
        "        prompt = f\"\"\"You are a seasoned plaintiff attorney preparing a rebuttal argument.\n",
        "\n",
        "Transcript of the courtroom so far:\n",
        "{conversation_so_far}\n",
        "\n",
        "Defendant's last response:\n",
        "{defendant_last}\n",
        "\n",
        "Retrieved Precedent Cases:\n",
        "{retrieved}\n",
        "\n",
        "Based on the facts, legal precedents, and prior exchanges,\n",
        "generate a persuasive and well-reasoned legal argument supporting the plaintiff's position.\n",
        "Highlight relevant statutes or rulings and strategically counter any opposing points.\n",
        "\"\"\"\n",
        "    return gemini_generate(prompt, model=\"gemini-2.5-flash-preview-04-17\")\n"
      ],
      "metadata": {
        "id": "9oIUO_C9ppPq",
        "executionInfo": {
          "status": "ok",
          "timestamp": 1747600646672,
          "user_tz": -330,
          "elapsed": 284,
          "user": {
            "displayName": "",
            "userId": ""
          }
        }
      },
      "id": "9oIUO_C9ppPq",
      "execution_count": 91,
      "outputs": []
    },
    {
      "cell_type": "code",
      "source": [
        "def defendant_agent(round_num, plaintiff_arg, retrieved, conversation_so_far=None):\n",
        "    if round_num == 1:\n",
        "        prompt = f\"\"\"\n",
        "You are the legal counsel for the defendant in a simulated courtroom debate.\n",
        "Analyze the latest argument made by the plaintiff:\n",
        "\"{plaintiff_arg}\"\n",
        "\n",
        "Use the following relevant precedent cases to build your rebuttal:\n",
        "{retrieved}\n",
        "\n",
        "Your goal is to defend your client convincingly by referencing applicable legal principles,\n",
        "contrasting case outcomes, and dismantling the plaintiff's position with logic and precedence.\n",
        "\n",
        "Provide a clear and persuasive counter-argument.\n",
        "\"\"\"\n",
        "    else:\n",
        "        prompt = f\"\"\"\n",
        "You are the legal counsel for the defendant in a simulated courtroom debate.\n",
        "Analyze the latest argument made by the plaintiff:\n",
        "\"{plaintiff_arg}\"\n",
        "\n",
        "Transcript of the courtroom so far:\n",
        "{conversation_so_far}\n",
        "\n",
        "Use the following relevant precedent cases to build your rebuttal:\n",
        "{retrieved}\n",
        "\n",
        "Your goal is to defend your client convincingly by referencing applicable legal principles,\n",
        "contrasting case outcomes, and dismantling the plaintiff's position with logic and precedence.\n",
        "\n",
        "Provide a clear and persuasive counter-argument.\n",
        "\"\"\"\n",
        "    return gemini_generate(prompt, model=\"gemini-2.5-flash-preview-04-17\")\n"
      ],
      "metadata": {
        "id": "dYqzbjkByucN",
        "executionInfo": {
          "status": "ok",
          "timestamp": 1747600650681,
          "user_tz": -330,
          "elapsed": 311,
          "user": {
            "displayName": "",
            "userId": ""
          }
        }
      },
      "id": "dYqzbjkByucN",
      "execution_count": 92,
      "outputs": []
    },
    {
      "cell_type": "code",
      "source": [
        "def judge_agent(transcript, retrieved_cases, case_facts):\n",
        "    prompt = f\"\"\"You are a judicial reasoning engine.\n",
        "Below is a transcript of a simulated courtroom debate between a plaintiff and a defendant:\n",
        "{transcript}\n",
        "\n",
        "You have access to the following precedent cases:\n",
        "{retrieved_cases}\n",
        "\n",
        "Analyze the strength, clarity, and legal grounding of both sides.\n",
        "Consider the relevance and weight of the cited cases.\n",
        "\n",
        "Provide:\n",
        "1. A final verdict (e.g., 'Plaintiff wins', 'Defendant wins', 'Dismissed')\n",
        "2. A reasoning summary that explains your judgment referencing the arguments and precedents.\n",
        "\"\"\"\n",
        "    return gemini_generate(prompt, model=\"gemini-2.5-pro-preview-05-06\")\n"
      ],
      "metadata": {
        "id": "EAdiAov6DJWE",
        "executionInfo": {
          "status": "ok",
          "timestamp": 1747600652288,
          "user_tz": -330,
          "elapsed": 214,
          "user": {
            "displayName": "",
            "userId": ""
          }
        }
      },
      "id": "EAdiAov6DJWE",
      "execution_count": 93,
      "outputs": []
    },
    {
      "cell_type": "code",
      "source": [
        "def run_debate(query):\n",
        "    retrieved = retrieve_cases(query, top_k=5)\n",
        "    conversation = []\n",
        "\n",
        "    # Round 1\n",
        "    plaintiff_arg = plaintiff_agent(1, query, retrieved)\n",
        "    defendant_arg = defendant_agent(1, plaintiff_arg, retrieved)\n",
        "    conversation.append({\"round\": 1, \"plaintiff\": plaintiff_arg, \"defendant\": defendant_arg})\n",
        "\n",
        "    # Rounds 2–5\n",
        "    for round_num in range(2, 6):\n",
        "        plaintiff_arg = plaintiff_agent(round_num, query, retrieved, conversation, defendant_arg)\n",
        "        defendant_arg = defendant_agent(round_num, plaintiff_arg, retrieved, conversation)\n",
        "        conversation.append({\n",
        "            \"round\": round_num,\n",
        "            \"plaintiff\": plaintiff_arg,\n",
        "            \"defendant\": defendant_arg\n",
        "        })\n",
        "\n",
        "    # Final Judgment\n",
        "    judgement = judge_agent(conversation, retrieved, query)\n",
        "    return conversation, judgement\n"
      ],
      "metadata": {
        "id": "d_Y5EEawzaKt",
        "executionInfo": {
          "status": "ok",
          "timestamp": 1747600653477,
          "user_tz": -330,
          "elapsed": 2,
          "user": {
            "displayName": "",
            "userId": ""
          }
        }
      },
      "id": "d_Y5EEawzaKt",
      "execution_count": 94,
      "outputs": []
    },
    {
      "cell_type": "code",
      "source": [
        "query=\"Diploma-holding engineers with 10+ years of experience were denied promotion to a Gazetted post requiring a degree. They relied on an old government circular claiming equivalence, but the department rejected it, stating it wasn’t officially notified. Should the court accept the equivalence and allow promotion?\"\n",
        "run_debate(query)"
      ],
      "metadata": {
        "colab": {
          "base_uri": "https://localhost:8080/"
        },
        "id": "4KI9r7ps_V6Q",
        "executionInfo": {
          "status": "ok",
          "timestamp": 1747600961751,
          "user_tz": -330,
          "elapsed": 305449,
          "user": {
            "displayName": "",
            "userId": ""
          }
        },
        "outputId": "ab69363a-cfdc-494a-aa25-12f5a399d323"
      },
      "id": "4KI9r7ps_V6Q",
      "execution_count": 95,
      "outputs": [
        {
          "output_type": "execute_result",
          "data": {
            "text/plain": [
              "([{'round': 1,\n",
              "   'plaintiff': \"Okay, here is a draft opening statement for a seasoned plaintiff attorney, incorporating principles from the provided precedents. The specific nature of the plaintiff's case isn't given, so I will frame it as a commercial dispute involving breach of contract and failure to deliver/refund, drawing primarily from the *Volunteer For Village Development* and *Innovative Crafts* principles (breach, failure to perform, entitlement, improper withholding) and potentially touching on *Sudhir Kumar* if the defendant has complicated matters.\\n\\n---\\n\\n**Opening Statement**\\n\\nMay it please the Court, counsel, ladies and gentlemen of the jury.\\n\\nMy name is [Your Name], and I represent the plaintiff in this case, [Plaintiff's Name/Company]. [Plaintiff's Name/Company] is a [briefly describe plaintiff, e.g., reputable business, hardworking individual] who came to this court seeking justice for a clear wrong committed by the defendant, [Defendant's Name/Company].\\n\\nThis case is about a promise made, a promise broken, and the significant harm that resulted. It is a case about an agreement entered into in good faith, where our client upheld their end of the bargain, but the defendant utterly failed to uphold theirs, causing [Plaintiff's Name/Company] substantial financial loss and disruption.\\n\\nWe will show you that on or about [Date], [Plaintiff's Name/Company] and [Defendant's Name/Company] entered into a clear, written agreement. Under this agreement, [Plaintiff's Name/Company] agreed to [briefly state plaintiff's obligation, e.g., pay a sum of money, provide certain information] in exchange for [Defendant's Name/Company] providing [briefly state defendant's obligation, e.g., specific services, goods, access to funds].\\n\\n[Plaintiff's Name/Company] did exactly what they promised. They [describe plaintiff's performance, e.g., paid the full amount of Rs. X, provided all necessary documentation]. They trusted that [Defendant's Name/Company] would do the same.\\n\\nBut [Defendant's Name/Company] did not. Despite receiving the benefit of the agreement – [e.g., receiving the payment, gaining access to resources] – they failed to deliver on their core promise. They failed to provide the [services/goods/access to funds]. Month after month, [Plaintiff's Name/Company] waited, they inquired, they sought performance. But the defendant offered only excuses, delays, and ultimately, inaction.\\n\\nWhen it became clear that the defendant would not perform, [Plaintiff's Name/Company] sought a resolution. They attempted to [describe attempts, e.g., negotiate, demand performance, demand a refund]. As you will see from the evidence, including correspondence and notices, [Plaintiff's Name/Company] made every reasonable effort to resolve this outside of court. But the defendant refused to [e.g., perform, refund the money, acknowledge their failure].\\n\\nThis refusal left [Plaintiff's Name/Company] with no choice but to come before this court. They are here today because the defendant's failure to honor their agreement and their subsequent refusal to rectify the situation has caused real, quantifiable harm. We will present evidence showing that [Plaintiff's Name/Company] lost [describe specific losses, e.g., the money paid, lost business opportunities, wasted resources] directly as a result of the defendant's breach.\\n\\nThe law is clear on this matter. When parties enter into an agreement, they are bound by its terms. As courts have consistently held, including in cases like *M/S Volunteer For Village Development*, when one party fails to comply with their obligations under an agreement, particularly after receiving payment or consideration, they cannot simply walk away. The law provides a remedy for such breaches.\\n\\nWe will demonstrate that the defendant's actions constitute a fundamental breach of the agreement. Their failure was not a minor oversight; it was a complete and total failure to deliver what was promised.\\n\\nThe defendant may try to argue that [anticipate a likely defense, e.g., they faced difficulties, the agreement was unclear, it was someone else's fault]. But the evidence will show that the agreement was clear, the defendant accepted its terms and the payment, and their failure was due to their own inability or unwillingness to perform.\\n\\nJust as courts have looked beyond initial appearances to ensure parties receive what they are rightfully *entitled* to, as seen in cases like *M/S Innovative Crafts* where an exporter was found entitled to benefits despite complex payment routes, we will show you that [Plaintiff's Name/Company] is rightfully *entitled* to recover the losses caused by the defendant's failure. This isn't a complex legal puzzle; it's about holding a party accountable for breaking a promise that caused harm.\\n\\nYou may also hear arguments that attempt to complicate this straightforward commercial dispute, perhaps by introducing irrelevant side issues or even attempting to frame the matter improperly. But as the courts have reminded us, in cases involving contractual obligations and financial disputes, the focus must remain on the civil responsibilities of the parties under their agreement, not on attempts to [e.g., evade responsibility through mischaracterization, improperly withhold what is due, as highlighted by the principles in cases distinguishing civil disputes from other matters like the one involving SBI's lien in *Sudhir Kumar*]. This case is, fundamentally, about a civil wrong – a breach of contract – and the defendant's civil liability for that breach.\\n\\nAt the conclusion of this trial, we will ask you to find that [Defendant's Name/Company] breached their agreement with [Plaintiff's Name/Company]. We will ask you to find that this breach caused significant harm. And we will ask you to award [Plaintiff's Name/Company] damages sufficient to fully compensate them for their losses, including [list key damages sought, e.g., the return of the funds paid, compensation for lost opportunities, recovery of wasted expenses], totaling [State the specific total amount sought] Rupees.\\n\\nWe are confident that once you have heard all the evidence, you will see the truth of what happened, you will apply the law to the facts, and you will find in favor of [Plaintiff's Name/Company], holding the defendant accountable for their broken promise.\\n\\nThank you.\\n\\n---\\n\\n**Key elements incorporated and why:**\\n\\n1.  **Plaintiff-Focused Narrative:** Starts with the plaintiff, their purpose, and the core grievance.\\n2.  **Storytelling:** Presents the facts chronologically and clearly – agreement, plaintiff's performance, defendant's failure, resulting harm, attempts to resolve.\\n3.  **Clear Issues:** Defines the simple questions for the trier of fact (breach, causation, damages).\\n4.  **Integration of Precedents (Principles):**\\n    *   *Volunteer For Village Development:* Used to support the principle that courts provide remedies when agreements are broken, services aren't delivered, and refunds aren't given after payment. This directly aligns with a breach of contract/failure to perform scenario.\\n    *   *Innovative Crafts:* Used to support the principle of *entitlement* and challenging improper withholding or actions (like refusing to refund or deliver). It reinforces that the court's role is to ensure justice based on the facts of entitlement.\\n    *   *Sudhir Kumar:* Used cautiously, primarily to preemptively counter any potential defense attempt to complicate the civil nature of the dispute or justify improper withholding by mischaracterizing the situation. It reinforces that this is a civil matter about contractual obligations. (Note: *J.B. Boda* and *Vijay Pandey* were less relevant to a standard commercial plaintiff's case and were omitted to maintain focus).\\n5.  **Evidence Outline:** Briefly tells the jury/judge what they will see and hear to support the story.\\n6.  **Anticipating Defenses:** Addresses potential defendant arguments without dwelling on them, framing them as distractions from the core issue.\\n7.  **Call for Damages:** Clearly states what the plaintiff is asking for and why.\\n8.  **Confident Conclusion:** Reaffirms the plaintiff's position and asks for a favorable verdict.\\n9.  **Tone:** Aims for confident, clear, and persuasive, suitable for a seasoned attorney.\\n\\nRemember to replace the bracketed placeholders `[...]` with the specific details of your actual case.\",\n",
              "   'defendant': 'May it please the Court, counsel, ladies and gentlemen of the jury.\\n\\nMy name is [Your Name], and I represent the defendant in this case, [Defendant\\'s Name/Company]. You have just heard the plaintiff\\'s opening statement, presenting a picture of a simple, clear promise broken, resulting in undeniable harm. They paint a narrative of straightforward entitlement and a defendant who simply refused to perform or refund.\\n\\nBut the plaintiff\\'s story, while compellingly told, is incomplete. It is a selective presentation of the facts designed to fit a simple narrative that, frankly, does not reflect the full reality of the agreement between our parties or the circumstances that unfolded.\\n\\nThis case is not merely about a promise made and broken. It is about an agreement with specific terms and conditions, about the obligations of *both* parties, and about actions taken by the defendant that were not only permissible but, we will show you, were *justified* under the terms of that very agreement and the applicable law.\\n\\nThe plaintiff claims they upheld their end of the bargain entirely. We will present evidence that demonstrates this is not accurate. The agreement between [Plaintiff\\'s Name/Company] and [Defendant\\'s Name/Company] contained specific requirements and conditions that the plaintiff was obligated to meet. We will show you that the plaintiff failed to satisfy these crucial conditions, and it was this failure that directly impacted the defendant\\'s ability, or indeed, their obligation, to proceed as the plaintiff expected.\\n\\nThe plaintiff cites cases like *M/S Volunteer For Village Development* to suggest that courts always provide remedies when agreements are broken and services aren\\'t delivered after payment. While that case, like many, involved a dispute over performance and payment, the court\\'s action there was simply to appoint an arbitrator to *hear* the dispute – it did not rule on the merits of the breach claim or guarantee any outcome for the plaintiff in that case. It merely confirmed that a dispute existed that needed resolution according to the parties\\' agreement. It does not mean the plaintiff is automatically entitled to judgment here.\\n\\nThey also refer to *M/S Innovative Crafts* to argue for their \"entitlement\" and against \"improper withholding.\" But the *Innovative Crafts* case actually supports the principle that *entitlement* is not automatic; it depends entirely on the specific facts and whether the party claiming entitlement has met the necessary conditions. In *Innovative Crafts*, the court found the exporter *was* entitled to duty drawback because they *had* fulfilled their obligations – exporting the goods and receiving payment according to a specific, documented arrangement. We will show you that, unlike the exporter in *Innovative Crafts* who met the conditions for their entitlement, the plaintiff in *this* case failed to meet the conditions precedent that were necessary for the defendant to perform as the plaintiff now demands. Our actions were not an \"improper withholding\" but a justified response to the plaintiff\\'s own non-performance or failure to meet a contractual prerequisite.\\n\\nFurthermore, the plaintiff attempted to use the *Sudhir Kumar* case to simply state this is a \"civil matter\" and warn against complicating it. But the *Sudhir Kumar* case, where the court quashed criminal proceedings against bank officials, is highly relevant for a different reason. It demonstrates that even in commercial and financial disputes, actions that might *appear* to be a failure to deliver or an improper retention of property (like the bank retaining title deeds) can be entirely *justified* under the terms of the agreement or established legal rights, such as a right of lien under Section 171 of the Indian Contract Act. *Sudhir Kumar* shows that there can be legitimate, legally recognized reasons for one party to an agreement to withhold performance or retain assets, and that such actions are not necessarily a \"breach\" but a lawful exercise of rights. We will show you that the defendant\\'s actions in this case were similarly justified based on the specific terms of our agreement and the circumstances as they truly existed, not as the plaintiff has simplified them.\\n\\nYou may hear references to other cases dealing with entirely different areas of law, such as labour disputes or criminal procedure, like *J.B. Boda* or *Vijay Pandey*. These cases highlight the vast and varied landscape of the law, but they do not dictate the outcome of this specific commercial contract dispute. The principles that govern a breach of contract case are distinct, and they include principles related to conditions precedent, mutual obligations, and justified non-performance.\\n\\nWe will present evidence, including the full text of the agreement, correspondence between the parties, and testimony, that will demonstrate:\\n1. The agreement contained specific conditions that the plaintiff was required to fulfill before the defendant\\'s primary obligation was triggered.\\n2. The plaintiff failed to meet these conditions.\\n3. The defendant\\'s subsequent actions, which the plaintiff characterizes as a \"breach\" and \"failure to deliver/refund,\" were in fact a direct and justified consequence of the plaintiff\\'s own failure to perform their part of the bargain.\\n4. The plaintiff is therefore not entitled to the performance they seek, nor are they entitled to a refund under the terms of the agreement or the circumstances that arose due to their own actions.\\n5. The damages claimed by the plaintiff are either not causally linked to any wrongful act by the defendant or are speculative and unsupported by evidence.\\n\\nAt the conclusion of this trial, we are confident that once you have heard all the evidence and considered the full context of the agreement and the parties\\' actions, you will see that the defendant did not breach the contract. You will see that the defendant\\'s actions were justified. And you will find that the plaintiff is not entitled to the damages they seek. We will ask you to find in favor of the defendant.\\n\\nThank you.'},\n",
              "  {'round': 2,\n",
              "   'plaintiff': 'Okay, here is a draft rebuttal argument for the seasoned plaintiff attorney, directly addressing the points raised in the defendant\\'s opening statement and strategically re-framing or distinguishing the cited precedents.\\n\\n---\\n\\n**Rebuttal Argument**\\n\\nMay it please the Court, counsel, ladies and gentlemen of the jury.\\n\\nYou have now heard the defendant\\'s attempt to weave a complex tapestry around what is, at its core, a straightforward case of a broken promise and resulting harm. The defendant suggests our story is \"incomplete\" and \"selective,\" designed to hide some deeper reality involving unmet conditions and justified non-performance.\\n\\nBut I assure you, the picture we painted in our opening statement is not incomplete; it is simply the plain truth of what happened. The defendant\\'s narrative, on the other hand, is an attempt to obscure that truth with layers of alleged complexity and misapplied legal concepts.\\n\\nThe defendant claims this case is about the obligations of *both* parties and that their actions were \"justified\" because the plaintiff failed to meet \"crucial conditions precedent.\" We anticipated this defense. And the evidence you will hear will show that this claim is nothing more than an excuse manufactured after the fact to avoid responsibility.\\n\\nWe will demonstrate that [Plaintiff\\'s Name/Company] *did* fulfill their essential obligations under the agreement – most critically, they provided the agreed-upon consideration, the [e.g., payment of Rs. X]. The \"conditions\" the defendant now points to were either not true conditions precedent to their core obligation to deliver the [services/goods/access to funds], or they were minor requirements that the defendant either waived, failed to properly notify the plaintiff about, or which did not, in any way, justify their complete and utter failure to perform *anything* or provide a refund.\\n\\nThe defendant tries to diminish the significance of cases like *M/S Volunteer For Village Development*, suggesting it \"only\" appointed an arbitrator and didn\\'t rule on the merits. With respect, that misses the point entirely. The court in *Volunteer For Village Development* appointed an arbitrator *precisely because* the plaintiff\\'s claim – a failure to comply with an agreement, failure to provide services after receiving payment, and refusal to refund – presented a legitimate, arbitrable dispute. It confirms that the *type* of wrong alleged by [Plaintiff\\'s Name/Company] here is a recognized basis for seeking legal remedy. It doesn\\'t guarantee an outcome, no case does, but it validates the fundamental principle that parties who take payment and fail to perform can and should be held accountable.\\n\\nThe defendant also attempts to twist the meaning of *M/S Innovative Crafts*. They argue that case supports the idea that \"entitlement is not automatic\" and depends on meeting conditions. They claim *their* actions were justified, unlike the exporter in *Innovative Crafts* who *did* meet conditions. But look closely at *Innovative Crafts*. The court there found the exporter *was* entitled to the duty drawback *despite* complex payment routes involving third parties and questions about the supplier\\'s existence. The court looked beyond those complexities to the fundamental fact: the export happened, and the payment for that export was received. The principle is not that entitlement is never automatic; it\\'s that courts will ensure a party receives what they are rightfully *entitled* to based on the substance of their performance, cutting through technicalities or alleged irregularities that don\\'t go to the heart of the bargain. We will show you that [Plaintiff\\'s Name/Company] performed the *substance* of their obligation by paying the agreed price, and the defendant\\'s failure was not due to any substantial, unrectified failure by the plaintiff, but the defendant\\'s own inability or unwillingness to deliver. The defendant\\'s refusal to refund or perform *is* precisely the kind of improper withholding that the principle of *entitlement* in cases like *Innovative Crafts* is meant to prevent.\\n\\nMost strikingly, the defendant attempts to use *Sudhir Kumar* – a case about whether bank officials could be criminally prosecuted for exercising a potential *statutory lien* over property held as collateral for *other* debts – to justify their complete failure to perform a commercial contract or issue a refund. This is a clear misapplication of the law. *Sudhir Kumar* involved a bank\\'s specific, legally recognized right of general lien under Section 171 of the Indian Contract Act, a right that allows banks to retain securities for a general balance of account. This case has *nothing* to do with a bank lien. It is a simple commercial agreement for [services/goods]. The defendant is not a bank, [Plaintiff\\'s Name/Company]\\'s payment was not collateral for other debts, and there is no statutory or contractual lien that justifies the defendant keeping the money *and* failing to deliver the [services/goods]. *Sudhir Kumar* actually supports *our* initial point: it distinguishes between civil disputes and criminal matters and highlights that actions must be justified by *applicable* legal rights. The defendant has no *applicable* legal right, like a bank\\'s lien, to simply keep [Plaintiff\\'s Name/Company]\\'s money and provide nothing in return. Their attempt to use *Sudhir Kumar* this way underscores the weakness of their actual defense.\\n\\nThe defendant\\'s arguments about \"conditions precedent\" and \"justified actions\" are merely a smokescreen. The evidence will show that [Plaintiff\\'s Name/Company] held up their end. The evidence will show that the defendant did not. The evidence will show that the defendant\\'s failure was not a justified response to some plaintiff deficiency, but a fundamental breach of the agreement. And the evidence will show that [Plaintiff\\'s Name/Company] suffered real, quantifiable harm – the very harm the defendant now tries to dismiss as speculative.\\n\\nThis case is not about complex legal theories or obscure conditions. It is about fairness, accountability, and the fundamental principle that when you make a promise in a contract, and you take someone\\'s money, you are obligated to fulfill your end of the bargain or return what you received.\\n\\nAt the end of the evidence, we are confident you will see that the defendant\\'s excuses do not hold up, their interpretation of the law does not apply, and the simple truth remains: the defendant broke their promise, and they must be held accountable for the harm they caused. We will ask you to find in favor of [Plaintiff\\'s Name/Company] and award them the damages they are rightfully entitled to.\\n\\nThank you.\\n\\n---',\n",
              "   'defendant': 'May it please the Court, counsel, ladies and gentlemen of the jury.\\n\\nThe plaintiff, in their rebuttal, continues to insist that this case is a simple, straightforward matter of a broken promise and an unjustified failure to perform or refund. They attempt to dismiss our defense as a \"complex tapestry\" and a \"smokescreen,\" designed to obscure a \"plain truth.\"\\n\\nBut the truth, as the evidence will show, is rarely as simple as one party wishes to paint it. Our narrative is not complex for complexity\\'s sake; it is complex because the *agreement* and the *circumstances* were not simple. This case is fundamentally about whether the plaintiff met their obligations under that agreement, and whether the defendant\\'s actions were a justified response to the plaintiff\\'s own failures, not an arbitrary breach.\\n\\nThe plaintiff claims their picture is the \"plain truth\" and ours is an \"excuse manufactured after the fact.\" This is simply not accurate. The conditions and requirements we speak of are not inventions; they are embedded within the very agreement the plaintiff asks you to enforce. Our actions were not an excuse; they were a direct and necessary consequence of the plaintiff\\'s failure to perform *their* part of the bargain. The plaintiff focuses solely on their payment as fulfilling their \"essential obligations.\" But the agreement required more than just payment. It required the plaintiff to [briefly mention the type of crucial condition the plaintiff allegedly failed, e.g., provide necessary documentation, obtain a specific approval, meet a deadline related to their action]. Their failure to do so was not minor; it was fundamental, preventing the defendant from proceeding.\\n\\nThe plaintiff tries to minimize the significance of *M/S Volunteer For Village Development*, suggesting we missed the point that it validates the *type* of dispute. We understand the type of dispute. Our point, which stands, is that the court in that case did *not* rule that the defendant was wrong or that the plaintiff was automatically entitled to a remedy. It merely sent the *dispute* to arbitration. It confirms that disagreements over performance and payment exist and need resolution, but it offers no guidance on *who* is right in *this* specific dispute, where the defendant claims justification based on the plaintiff\\'s own conduct. It certainly does not support the plaintiff\\'s claim of automatic entitlement here.\\n\\nThe plaintiff\\'s attempt to twist *M/S Innovative Crafts* is equally unconvincing. They argue it supports entitlement based on the \"substance\" of performance (their payment). But the court in *Innovative Crafts* found entitlement *because* the exporter had fulfilled the *specific conditions* required for duty drawback – the export happened, and payment for *that specific export* was received, despite complex routes. The principle is precisely what we stated: entitlement is *conditional*. The plaintiff here did *not* fulfill the specific conditions required by *our* agreement to trigger *our* performance obligation. Their payment was a necessary step, perhaps, but not the *only* step, and not the step that triggered our core obligation. The defendant\\'s refusal to perform or refund was not an \"improper withholding\" like denying a benefit when conditions were met; it was a justified withholding of performance because the plaintiff *failed* to meet the necessary prerequisites.\\n\\nMost telling is the plaintiff\\'s strained effort to distance themselves from *Sudhir Kumar*. They call our use a \"clear misapplication,\" claiming it\\'s only about a bank lien and irrelevant to a commercial contract. With respect, this misses the fundamental principle we highlighted. While *Sudhir Kumar* involved a bank\\'s statutory lien, the core takeaway relevant here is that actions which, on the surface, might look like an improper failure to release property or perform an obligation, can be entirely *justified* by a legally recognized right or the terms governing the relationship between the parties. The bank in *Sudhir Kumar* was justified by its lien under Section 171. The defendant in *this* case was justified by the terms of the *contract* and the plaintiff\\'s failure to meet the conditions precedent within that contract. The *principle* is the same: a party is not in breach if their actions are justified by the governing rules – be it a statute like Section 171 or the specific clauses of a commercial agreement. The plaintiff has no basis to claim the defendant lacks an \"applicable legal right\" to withhold performance or funds when the very agreement they rely upon provides that justification based on the plaintiff\\'s non-performance. *Sudhir Kumar* serves as a reminder that we must look beyond the plaintiff\\'s simplified accusation and examine the *justification* for the defendant\\'s actions under the actual terms agreed upon.\\n\\nThe plaintiff\\'s arguments about \"smokescreens\" and \"manufactured excuses\" are themselves an attempt to distract from their own failure to comply with the agreement. The evidence will demonstrate that the defendant did not break a simple promise. The defendant acted in accordance with the terms of the contract, terms that the plaintiff failed to honor. The harm the plaintiff alleges is a direct result of their *own* non-performance, not a breach by the defendant.\\n\\nThis case is not about ignoring fairness or accountability. It is about applying fairness and accountability *to both parties* according to the agreement they willingly entered. When one party fails to meet a crucial condition, the other party is not obligated to proceed as if nothing happened.\\n\\nAt the close of evidence, we are confident you will see that the defendant\\'s actions were not a breach, but a justified response to the plaintiff\\'s failure. You will see that the plaintiff is not entitled to the performance or the refund they seek under the terms of the agreement. We will ask you to find in favor of the defendant.\\n\\nThank you.'},\n",
              "  {'round': 3,\n",
              "   'plaintiff': 'May it please the Court, counsel, ladies and gentlemen of the jury.\\n\\nWe have now reached the point where we can look back at the promises made by both sides in their opening statements and consider what the evidence has shown, and what the law requires.\\n\\nThe defendant, throughout this trial, has attempted to convince you that this is a complicated case, a \"complex tapestry\" woven with unmet conditions and justified actions. They suggest our presentation of the facts is \"incomplete\" and that their failure to perform was merely a \"direct and necessary consequence\" of the plaintiff\\'s own shortcomings.\\n\\nBut what has the evidence *actually* shown?\\n\\nThe evidence has shown a clear agreement. It has shown that [Plaintiff\\'s Name/Company] did exactly what they promised – they paid the agreed-upon sum of [e.g., Rs. X]. This was the fundamental obligation on their part to trigger the defendant\\'s performance.\\n\\nThe defendant claims there were \"crucial conditions\" the plaintiff failed to meet, conditions \"embedded within the very agreement.\" Yet, when you examine the evidence, you will see that the alleged conditions the defendant now points to were either vague, not clearly defined as prerequisites to the defendant\\'s core obligation, or were issues the defendant themselves failed to properly manage or notify the plaintiff about in a timely manner. More importantly, the evidence demonstrates that *even if* there were minor administrative steps or information the defendant *wished* they had received differently, these issues *did not* fundamentally prevent the defendant from performing their core obligation to deliver the [services/goods/access to funds]. And they certainly did not justify the defendant\\'s complete and total failure to perform *anything* or, failing that, to return the money they had received.\\n\\nThe defendant wants you to believe their inaction was a \"justified response.\" But the law requires more than a mere assertion of justification. It requires a *legal* justification.\\n\\nLet\\'s revisit the cases the defendant has tried to rely upon.\\n\\nThey continue to cite *M/S Volunteer For Village Development*, arguing it only appointed an arbitrator and didn\\'t rule on the merits. Again, this misses the point. The court in *Volunteer For Village Development* sent the dispute to arbitration *because* the plaintiff\\'s claim – taking payment and failing to perform or refund – presented a valid, actionable legal dispute. It confirms that the *very scenario* you have heard evidence about in this courtroom is a recognized basis for seeking justice and accountability under the law. It validates the plaintiff\\'s right to be here, seeking a remedy for the defendant\\'s failure.\\n\\nThe defendant also clings to *M/S Innovative Crafts*, arguing it shows entitlement is conditional. We agree, entitlement *can* be conditional. But *Innovative Crafts* actually supports *our* position. The exporter in that case was found entitled to the duty drawback *because* they fulfilled the *substance* of their obligation – the export happened, and payment was received. The court looked past technicalities about *how* the payment arrived. Here, [Plaintiff\\'s Name/Company] fulfilled the *substance* of their obligation by paying the agreed price. The defendant\\'s obligation was then triggered. Their subsequent failure to deliver the [services/goods] is the breach. Their refusal to refund the money after failing to deliver *is* precisely the kind of improper withholding that the principle of *entitlement* – receiving what you are rightfully due based on performance – is meant to prevent. The defendant\\'s attempt to claim *their* non-performance was a \"justified withholding\" is simply an attempt to re-label their breach.\\n\\nAnd their continued reliance on *Sudhir Kumar* remains, frankly, baffling and a clear misdirection. The defendant suggests *Sudhir Kumar* stands for a broad principle that any action *can* be justified by \"governing rules,\" including a commercial contract. But that is a gross oversimplification that ignores the specific context of that ruling. *Sudhir Kumar* was about whether *criminal* charges could stand against *bank officials* for exercising a *statutory right of general lien* under *Section 171 of the Indian Contract Act* over property held as *collateral* for *other outstanding debts*. That is a highly specific legal right granted to banks under a particular statute, allowing them to retain securities for a general balance of account.\\n\\nThis case involves none of that. The defendant is not a bank. The plaintiff\\'s payment was not collateral for other debts. There is no statutory lien under Section 171 or any other law that justifies the defendant keeping [Plaintiff\\'s Name/Company]\\'s money *and* failing to provide the agreed-upon [services/goods]. The \"governing rules\" here are the terms of *this* commercial contract, and the general principles of contract law. And under those rules, taking payment and providing nothing in return, without a valid, contractually defined justification that the evidence supports, is a breach. *Sudhir Kumar* does not provide the defendant with a get-out-of-jail-free card for breaking a commercial promise. It highlights that legal justification must be *applicable* to the facts, and the defendant has shown none here.\\n\\nThe defendant\\'s arguments about complexity and conditions are, in the end, an attempt to distract you from the simple, undeniable facts:\\n1.  An agreement was made.\\n2.  [Plaintiff\\'s Name/Company] paid the price.\\n3.  The defendant failed to deliver the [services/goods].\\n4.  The defendant refused to refund the money.\\n5.  [Plaintiff\\'s Name/Company] suffered quantifiable harm as a direct result.\\n\\nThe evidence you have heard supports this straightforward narrative. The defendant\\'s alleged \"conditions precedent\" were either not breached in a way that justified total non-performance, or they were issues the defendant failed to handle properly. The defendant\\'s actions were not a justified response; they were a breach of contract.\\n\\nThis case is not about complex legal theory. It is about holding a party accountable for breaking a fundamental promise in a commercial transaction. It is about ensuring that when someone pays for something, they either receive what they paid for or get their money back. That is the essence of fairness and accountability in contract law.\\n\\nWe have presented evidence of the agreement, of the plaintiff\\'s performance, of the defendant\\'s failure, and of the resulting harm. We have shown that the defendant\\'s attempts to justify their actions are not supported by the evidence or the applicable law.\\n\\nAt the conclusion of this trial, we ask you to consider all the evidence. We ask you to apply the law, not as the defendant attempts to misapply it, but as it truly governs this commercial dispute. We are confident that when you do, you will find that the defendant breached the contract, that this breach caused [Plaintiff\\'s Name/Company]\\'s losses, and that [Plaintiff\\'s Name/Company] is rightfully entitled to recover those losses.\\n\\nWe ask you to find in favor of [Plaintiff\\'s Name/Company] and award them the full damages sought, totaling [State the specific total amount sought] Rupees, to compensate them for the defendant\\'s broken promise.\\n\\nThank you.',\n",
              "   'defendant': 'May it please the Court, counsel, ladies and gentlemen of the jury.\\n\\nThe plaintiff has just concluded their closing argument, once again attempting to frame this case as a simple, undeniable narrative of a broken promise and an unjustified failure to perform or refund. They characterize our defense as a \"complex tapestry,\" a \"smokescreen,\" and an attempt to \"distract\" you from what they claim are the plain facts.\\n\\nBut as we have maintained throughout this trial, the truth, and the terms of the agreement willingly entered into by both parties, are not as simple as the plaintiff wishes them to be. The complexity isn\\'t a distraction we invented; it arises directly from the specific obligations and conditions embedded within the very contract the plaintiff seeks to enforce, and the plaintiff\\'s own failure to meet those obligations.\\n\\nThe plaintiff asserts that the evidence shows a \"clear agreement\" and that they did \"exactly what they promised\" by paying the agreed sum. We do not dispute that an agreement was made, nor that payment was tendered. However, the evidence *also* shows that the agreement contained specific, crucial conditions that the plaintiff was required to fulfill *in addition* to payment, conditions that were prerequisites to the defendant\\'s core obligation to deliver the [services/goods/access to funds]. The plaintiff\\'s payment was a necessary step, yes, but it was not the *only* step required of them, and it was not the step that triggered our performance obligation in isolation. The evidence demonstrates that the plaintiff failed to meet these necessary conditions – conditions that were not vague, but were [briefly mention the type of crucial condition the plaintiff allegedly failed, e.g., clearly defined requirements for necessary information, specific actions needed to enable delivery, deadlines tied to plaintiff\\'s responsibilities]. Their failure was not minor; it fundamentally prevented the defendant from proceeding as contemplated by the contract.\\n\\nThe plaintiff argues that even if there were minor issues, they didn\\'t justify total non-performance or withholding the refund. But the evidence shows these weren\\'t minor issues; they were failures to meet conditions precedent that went to the heart of the defendant\\'s ability to perform. When a party fails to meet a condition that triggers the other party\\'s obligation, the second party is not required to perform. That is not a \"justified response\" in a colloquial sense; it is a legally recognized consequence under contract law.\\n\\nLet\\'s revisit the cases the plaintiff has attempted to re-frame.\\n\\nThey continue to argue that *M/S Volunteer For Village Development* validates their claim because it involved a similar *type* of dispute. Again, this misses the critical point. That court *only* decided that a dispute existed that needed to go to arbitration. It did *not* rule on the merits of the plaintiff\\'s claim in that case. It did *not* say the defendant there was wrong. It offers no support whatsoever for the plaintiff\\'s assertion that they are automatically entitled to a judgment here, particularly when the defendant\\'s non-performance is justified by the plaintiff\\'s own contractual failures. It simply confirms that contract disputes happen and need resolution – a point no one disputes.\\n\\nThe plaintiff\\'s attempt to twist *M/S Innovative Crafts* is equally unpersuasive. They claim it supports entitlement based on the \"substance\" of their performance (payment) and that courts look past technicalities. But what was the \"substance\" in *Innovative Crafts*? It was the *fulfillment of the specific conditions* required for the duty drawback – the export happened, and payment for *that specific export* was received. The court looked past *how* the payment arrived (third party), but not past the *fact* that the core conditions for the benefit were met. In *this* case, the plaintiff *failed* to meet the specific conditions required by *our* agreement to trigger *our* performance obligation. Their payment was one step, but not the step that enabled or required our core delivery. Our action was not an \"improper withholding\" like denying a benefit when conditions were met; it was a justified withholding of performance and funds because the plaintiff *failed* to meet the necessary prerequisites defined in the contract. *Innovative Crafts* actually supports *our* position: entitlement is conditional, and you must meet the conditions.\\n\\nMost telling is the plaintiff\\'s continued, strained effort to dismiss *Sudhir Kumar*. They call it \"baffling\" and a \"clear misdirection,\" insisting it\\'s only about a bank lien and criminal law. With respect, this is *their* misdirection, an attempt to avoid the fundamental legal principle that case highlights. We never argued this case involves a bank lien under Section 171. What *Sudhir Kumar* stands for, and why it *is* relevant here, is the principle that actions which, on the surface, might look like an improper failure to release property or perform an obligation, can be entirely *justified* by a legally recognized right or the terms governing the relationship between the parties. The bank in *Sudhir Kumar* was justified by its statutory lien. The defendant in *this* case was justified by the terms of the *contract* and the plaintiff\\'s failure to meet the conditions precedent within that contract. The *principle* is the same: a party is not in breach if their actions are justified by the governing rules – be it a statute like Section 171 or the specific clauses of a commercial agreement. The plaintiff has no basis to claim the defendant lacks an \"applicable legal right\" to withhold performance or funds when the very agreement they rely upon provides that justification based on the plaintiff\\'s non-performance. *Sudhir Kumar* serves as a reminder that we must look beyond the plaintiff\\'s simplified accusation and examine the *justification* for the defendant\\'s actions under the actual terms agreed upon.\\n\\nThe plaintiff\\'s arguments about complexity and conditions being a distraction are themselves an attempt to distract you from their own failure to comply with the agreement. The evidence has demonstrated that:\\n1. An agreement was made with specific conditions precedent for the defendant\\'s performance.\\n2. The plaintiff failed to meet these crucial conditions.\\n3. The defendant\\'s failure to deliver the [services/goods] was a direct and justified consequence of the plaintiff\\'s own non-performance.\\n4. The defendant\\'s refusal to refund the money was justified because the plaintiff\\'s failure to meet conditions did not entitle them to a refund under the contract or applicable law.\\n5. Any harm the plaintiff suffered is a result of their *own* failure to fulfill their contractual obligations, not a breach by the defendant.\\n\\nThis case is not about ignoring fairness or accountability. It is about applying fairness and accountability *to both parties* according to the agreement they willingly entered. When one party fails to meet a crucial condition that enables the other party\\'s performance, the second party is not obligated to proceed as if nothing happened, nor are they automatically required to return funds received subject to those unmet conditions.\\n\\nWe have presented evidence of the agreement, of the conditions within it, and of the plaintiff\\'s failure to meet those conditions. We have shown that the defendant\\'s actions were not a breach, but a justified response dictated by the terms of the contract.\\n\\nAt the conclusion of this trial, we ask you to look beyond the plaintiff\\'s simplified narrative. Consider all the evidence, examine the terms of the agreement, and evaluate the plaintiff\\'s performance against their full obligations, not just the payment. Apply the law as it truly governs contracts with conditions precedent.\\n\\nWe are confident that when you do, you will find that the defendant did not breach the contract, that their actions were justified by the plaintiff\\'s own failures, and that the plaintiff is not entitled to the performance, the refund, or the damages they seek.\\n\\nWe ask you to find in favor of [Defendant\\'s Name/Company].\\n\\nThank you.'},\n",
              "  {'round': 4,\n",
              "   'plaintiff': 'May it please the Court, counsel, ladies and gentlemen of the jury.\\n\\nWe have now heard the defendant\\'s final attempt to persuade you that their failure to perform was somehow justified, that this case is complex, and that the plaintiff is not entitled to the remedy they seek. They continue to argue that our case is a \"simplified narrative\" and that their actions were a \"direct and justified consequence\" of the plaintiff\\'s failure to meet \"crucial conditions.\"\\n\\nBut let\\'s cut through the complexity the defendant attempts to weave and look at what the evidence *actually* proved during this trial.\\n\\nThe evidence proved that [Plaintiff\\'s Name/Company] and [Defendant\\'s Name/Company] entered into an agreement. The evidence proved that [Plaintiff\\'s Name/Company] fulfilled their fundamental obligation under that agreement: they paid the agreed-upon sum of [e.g., Rs. X]. This payment was the consideration for the defendant\\'s promise to deliver the [services/goods/access to funds].\\n\\nThe defendant claims there were \"specific, crucial conditions\" the plaintiff failed to meet, conditions \"embedded within the very agreement.\" But when you examined the contract and heard the testimony, what did you find? You found that the alleged conditions the defendant now relies upon were either vaguely defined, were not clearly designated in the contract as prerequisites that *must* be met *before* the defendant was obligated to perform their core duty, or were issues the defendant themselves failed to raise or manage properly at the time. Crucially, the evidence *did not* show that any alleged failure by the plaintiff fundamentally *prevented* the defendant from delivering the [services/goods/access to funds]. The evidence showed the defendant simply *failed* to deliver, period. And having taken the plaintiff\\'s money, that failure constitutes a breach.\\n\\nThe defendant\\'s assertion that their non-performance was a \"legally recognized consequence under contract law\" for the plaintiff\\'s alleged failure is only true if the plaintiff\\'s failure was of a nature and significance that legally excused the defendant\\'s performance *and* justified keeping the payment. The evidence does not support this. The plaintiff\\'s payment was substantial performance. The defendant\\'s failure was total non-performance.\\n\\nLet\\'s address the defendant\\'s continued mischaracterization of the legal precedents.\\n\\nThey still argue that *M/S Volunteer For Village Development* is irrelevant because it \"only\" appointed an arbitrator. This is a deliberate distraction. The significance of *Volunteer For Village Development* is not *what* the court did next (arbitration), but *why* it did it. The court found that a dispute arising from a party taking payment and failing to provide services or a refund *is* a legitimate, actionable legal dispute. It confirms that the plaintiff\\'s claim here – paying for something and receiving nothing – is a recognized wrong for which the law provides a remedy. It validates the very basis of our presence in this courtroom.\\n\\nThe defendant persists in twisting *M/S Innovative Crafts*. They claim it supports their view that entitlement is conditional and that the plaintiff here didn\\'t meet conditions like the exporter did. But *Innovative Crafts* supports *us*. The exporter *was* found entitled to the duty drawback *because* they performed the *substance* of their obligation – the export happened, and payment for *that export* was received, even through complex channels. The court looked past technicalities to the core performance. Here, the plaintiff performed the *substance* of their obligation by paying the agreed price. The defendant\\'s obligation to deliver was then triggered. Their failure to deliver the [services/goods] *after* receiving payment is the breach. Their refusal to return the money is precisely the kind of *improper withholding* that the principle of *entitlement* – receiving what you are rightfully due based on performance – is meant to prevent. The defendant\\'s attempt to call their failure a \"justified withholding\" is simply an attempt to escape liability for taking money and providing nothing.\\n\\nAnd their continued, desperate reliance on *Sudhir Kumar* remains the clearest indicator of the weakness of their defense. They claim it stands for a broad principle that actions can be justified by \"governing rules,\" including a contract. This is a fundamental misrepresentation of that case and the law. *Sudhir Kumar* was about whether *criminal* charges could be brought against *bank officials* for exercising a *specific statutory right* – a *general lien under Section 171 of the Indian Contract Act* – over *collateral* for *other outstanding debts*. That is a highly specific, legally defined right applicable *only* to certain relationships (like banker-customer) and circumstances (holding security for a general balance).\\n\\nThis case is *not* about a bank. It is *not* about a statutory lien under Section 171. It is *not* about collateral for other debts. It is a simple commercial contract for [services/goods]. The \"governing rules\" here are the terms of *this specific contract* and the general principles of contract law. And under *those* rules, taking payment and providing nothing in return, without a clear, contractually defined, and *proven* justification that goes to the root of the agreement, is a breach. *Sudhir Kumar* does not give the defendant license to keep the plaintiff\\'s money and deliver nothing. It highlights that legal justification must be *applicable* to the facts, and the defendant has shown *no applicable legal justification* for their total failure here.\\n\\nThe defendant\\'s arguments about complexity and conditions are, as we said from the beginning, a smokescreen. The evidence has shown the simple truth:\\n1. An agreement was made.\\n2. [Plaintiff\\'s Name/Company] paid the price, fulfilling their essential obligation.\\n3. The defendant failed to deliver the [services/goods] as promised.\\n4. The defendant refused to refund the money.\\n5. [Plaintiff\\'s Name/Company] suffered real, quantifiable harm as a direct result of the defendant\\'s breach.\\n\\nThe evidence did *not* show that the plaintiff failed to meet crucial conditions precedent in a way that legally excused the defendant\\'s total non-performance or justified keeping the payment. The evidence did *not* show a legal basis for the defendant\\'s actions.\\n\\nThis case is not about complex legal theory or obscure conditions. It is about fairness, accountability, and the fundamental principle that in a commercial transaction, when you take someone\\'s money, you must either provide what you promised or give the money back. The defendant failed on both counts.\\n\\nWe have presented the evidence. We have shown the defendant\\'s breach. We have shown the resulting harm. We have demonstrated that the defendant\\'s attempts to justify their actions are not supported by the evidence or the applicable law.\\n\\nAt the conclusion of this trial, we ask you to consider all the evidence you have heard and seen. We ask you to apply the law as it truly governs this commercial dispute, not as the defendant attempts to twist it. We are confident that when you do, you will see that the defendant breached the contract, that this breach caused [Plaintiff\\'s Name/Company]\\'s losses, and that [Plaintiff\\'s Name/Company] is rightfully entitled to recover those losses.\\n\\nWe ask you to find in favor of [Plaintiff\\'s Name/Company] and award them the full damages sought, totaling [State the specific total amount sought] Rupees, to compensate them for the defendant\\'s broken promise and unjustified actions.\\n\\nThank you.',\n",
              "   'defendant': 'May it please the Court, counsel, ladies and gentlemen of the jury.\\n\\nYou have now heard the plaintiff\\'s final attempt to persuade you that their failure to perform was somehow justified, that this case is complex, and that the plaintiff is not entitled to the remedy they seek. They continue to argue that our case is a \"simplified narrative\" and that their actions were a \"direct and justified consequence\" of the plaintiff\\'s failure to meet \"crucial conditions.\"\\n\\nBut let\\'s cut through the complexity the defendant attempts to weave and look at what the evidence *actually* proved during this trial.\\n\\nThe evidence proved that [Plaintiff\\'s Name/Company] and [Defendant\\'s Name/Company] entered into an agreement. The evidence proved that [Plaintiff\\'s Name/Company] fulfilled their fundamental obligation under that agreement: they paid the agreed-upon sum of [e.g., Rs. X]. This payment was the consideration for the defendant\\'s promise to deliver the [services/goods/access to funds].\\n\\nThe defendant claims there were \"specific, crucial conditions\" the plaintiff failed to meet, conditions \"embedded within the very agreement.\" But when you examined the contract and heard the testimony, what did you find? You found that the alleged conditions the defendant now relies upon were either vaguely defined, were not clearly designated in the contract as prerequisites that *must* be met *before* the defendant was obligated to perform their core duty, or were issues the defendant themselves failed to raise or manage properly at the time. Crucially, the evidence *did not* show that any alleged failure by the plaintiff fundamentally *prevented* the defendant from delivering the [services/goods/access to funds]. The evidence showed the defendant simply *failed* to deliver, period. And having taken the plaintiff\\'s money, that failure constitutes a breach.\\n\\nThe defendant\\'s assertion that their non-performance was a \"legally recognized consequence under contract law\" for the plaintiff\\'s alleged failure is only true if the plaintiff\\'s failure was of a nature and significance that legally excused the defendant\\'s performance *and* justified keeping the payment. The evidence does not support this. The plaintiff\\'s payment was substantial performance. The defendant\\'s failure was total non-performance.\\n\\nLet\\'s address the defendant\\'s continued mischaracterization of the legal precedents.\\n\\nThey still argue that *M/S Volunteer For Village Development* is irrelevant because it \"only\" appointed an arbitrator. This is a deliberate distraction. The significance of *Volunteer For Village Development* is not *what* the court did next (arbitration), but *why* it did it. The court found that a dispute arising from a party taking payment and failing to provide services or a refund *is* a legitimate, actionable legal dispute. It confirms that the plaintiff\\'s claim here – paying for something and receiving nothing – is a recognized wrong for which the law provides a remedy. It validates the very basis of our presence in this courtroom.\\n\\nThe defendant persists in twisting *M/S Innovative Crafts*. They claim it supports their view that entitlement is conditional and that the plaintiff here didn\\'t meet conditions like the exporter did. But *Innovative Crafts* supports *us*. The exporter *was* found entitled to the duty drawback *because* they performed the *substance* of their obligation – the export happened, and payment for *that export* was received, even through complex channels. The court looked past technicalities to the core performance. Here, the plaintiff performed the *substance* of their obligation by paying the agreed price. The defendant\\'s obligation to deliver was then triggered. Their failure to deliver the [services/goods] *after* receiving payment is the breach. Their refusal to return the money is precisely the kind of *improper withholding* that the principle of *entitlement* – receiving what you are rightfully due based on performance – is meant to prevent. The defendant\\'s attempt to call their failure a \"justified withholding\" is simply an attempt to escape liability for taking money and providing nothing.\\n\\nAnd their continued, desperate reliance on *Sudhir Kumar* remains the clearest indicator of the weakness of their defense. They claim it stands for a broad principle that actions can be justified by \"governing rules,\" including a contract. This is a fundamental misrepresentation of that case and the law. *Sudhir Kumar* was about whether *criminal* charges could be brought against *bank officials* for exercising a *specific statutory right* – a *general lien under Section 171 of the Indian Contract Act* – over *collateral* for *other outstanding debts*. That is a highly specific, legally defined right applicable *only* to certain relationships (like banker-customer) and circumstances (holding security for a general balance).\\n\\nThis case is *not* about a bank. It is *not* about a statutory lien under Section 171. It is *not* about collateral for other debts. It is a simple commercial contract for [services/goods]. The \"governing rules\" here are the terms of *this specific contract* and the general principles of contract law. And under *those* rules, taking payment and providing nothing in return, without a clear, contractually defined, and *proven* justification that goes to the root of the agreement, is a breach. *Sudhir Kumar* does not give the defendant license to keep the plaintiff\\'s money and deliver nothing. It highlights that legal justification must be *applicable* to the facts, and the defendant has shown *no applicable legal justification* for their total failure here.\\n\\nThe defendant\\'s arguments about complexity and conditions are, as we said from the beginning, a smokescreen. The evidence has shown the simple truth:\\n1. An agreement was made.\\n2. [Plaintiff\\'s Name/Company] paid the price, fulfilling their essential obligation.\\n3. The defendant failed to deliver the [services/goods] as promised.\\n4. The defendant refused to refund the money.\\n5. [Plaintiff\\'s Name/Company] suffered real, quantifiable harm as a direct result of the defendant\\'s breach.\\n\\nThe evidence did *not* show that the plaintiff failed to meet crucial conditions precedent in a way that legally excused the defendant\\'s total non-performance or justified keeping the payment. The evidence did *not* show a legal basis for the defendant\\'s actions.\\n\\nThis case is not about complex legal theory or obscure conditions. It is about fairness, accountability, and the fundamental principle that in a commercial transaction, when you take someone\\'s money, you must either provide what you promised or give the money back. The defendant failed on both counts.\\n\\nWe have presented the evidence. We have shown the defendant\\'s breach. We have shown the resulting harm. We have demonstrated that the defendant\\'s attempts to justify their actions are not supported by the evidence or the applicable law.\\n\\nAt the conclusion of this trial, we ask you to consider all the evidence you have heard and seen. We ask you to apply the law as it truly governs this commercial dispute, not as the defendant attempts to twist it. We are confident that when you do, you will see that the defendant breached the contract, that this breach caused [Plaintiff\\'s Name/Company]\\'s losses, and that [Plaintiff\\'s Name/Company] is rightfully entitled to recover those losses.\\n\\nWe ask you to find in favor of [Plaintiff\\'s Name/Company] and award them the full damages sought, totaling [State the specific total amount sought] Rupees, to compensate them for the defendant\\'s broken promise and unjustified actions.\\n\\nThank you.\\n\\n---\\n\\nMay it please the Court, counsel, ladies and gentlemen of the jury.\\n\\nThe plaintiff has just delivered their closing argument, once again attempting to reduce this case to a simplistic narrative of \"agreement, payment, failure, harm.\" They dismiss our defense as a \"smokescreen\" and a \"mischaracterization\" of the law and the facts. But their insistence on simplicity cannot erase the reality of the agreement the parties actually signed and the events that actually transpired.\\n\\nThe plaintiff claims the evidence showed they fulfilled their \"fundamental obligation\" by paying the agreed sum, and that the defendant simply \"failed to deliver, period.\" This is the core of their oversimplification. The evidence *did* show payment, yes. But the evidence *also* showed that the agreement contained specific, crucial conditions that the plaintiff was required to meet *before* the defendant\\'s obligation to deliver was triggered. These were not vague suggestions; they were [briefly mention the type of crucial condition the plaintiff allegedly failed, e.g., clearly defined requirements for necessary information, specific actions needed to enable delivery, deadlines tied to plaintiff\\'s responsibilities] embedded within the contract. The evidence proved that the plaintiff *failed* to meet these specific, necessary conditions. This failure was not minor; it was a fundamental impediment that prevented the defendant from proceeding with their performance as contemplated by the agreement.\\n\\nThe plaintiff argues that their payment was \"substantial performance\" and the defendant\\'s failure was \"total non-performance.\" But under contract law, if a party fails to meet a condition precedent to the other party\\'s performance, the second party\\'s obligation is *excused*. The defendant\\'s non-performance was not a breach; it was a legally recognized consequence of the plaintiff\\'s own failure to satisfy a contractual prerequisite. The evidence supports *this* reality, not the plaintiff\\'s simplified version.\\n\\nNow, let\\'s address the plaintiff\\'s continued distortion of the legal precedents.\\n\\nThey argue that *M/S Volunteer For Village Development* validates their claim because it confirms their \"type\" of dispute is actionable. Again, this misses the point entirely. That court *only* decided that a dispute existed that needed to go to arbitration. It did *not* rule on the merits of the plaintiff\\'s claim in that case. It did *not* say the defendant there was wrong or that the plaintiff was entitled to a remedy. It simply confirmed that contract disputes happen and need resolution. It offers no support for the plaintiff\\'s assertion that they are automatically entitled to judgment here, particularly when the defendant\\'s non-performance is justified by the plaintiff\\'s own contractual failures. It simply confirms that contract disputes happen and need resolution – a point no one disputes.\\n\\nThe plaintiff\\'s attempt to twist *M/S Innovative Crafts* is equally unpersuasive. They claim it supports entitlement based on the \"substance\" of their performance (payment) and that courts look past technicalities. But what was the \"substance\" in *Innovative Crafts*? It was the *fulfillment of the specific conditions* required for the duty drawback – the export happened, and payment for *that specific export* was received. The court looked past *how* the payment arrived (third party), but not past the *fact* that the core conditions for the benefit were met. In *this* case, the plaintiff *failed* to meet the specific conditions required by *our* agreement to trigger *our* performance obligation. Their payment was one step, but not the step that enabled or required our core delivery. Our action was not an \"improper withholding\" like denying a benefit when conditions were met; it was a justified withholding of performance and funds because the plaintiff *failed* to meet the necessary prerequisites defined in the contract. *Innovative Crafts* actually supports *our* position: entitlement is conditional, and you must meet the conditions.\\n\\nMost telling is the plaintiff\\'s continued, strained effort to dismiss *Sudhir Kumar*. They call it \"baffling\" and a \"clear misdirection,\" insisting it\\\\\\'s only about a bank lien and criminal law. With respect, this is *their* misdirection, an attempt to avoid the fundamental legal principle that case highlights. We never argued this case involves a bank lien under Section 171. What *Sudhir Kumar* stands for, and why it *is* relevant here, is the principle that actions which, on the surface, might look like an improper failure to release property or perform an obligation, can be entirely *justified* by a legally recognized right or the terms governing the relationship between the parties. The bank in *Sudhir Kumar* was justified by its statutory lien. The defendant in *this* case was justified by the terms of the *contract* and the plaintiff\\\\\\'s failure to meet the conditions precedent within that contract. The *principle* is the same: a party is not in breach if their actions are justified by the governing rules – be it a statute like Section 171 or the specific clauses of a commercial agreement. The plaintiff has no basis to claim the defendant lacks an \"applicable legal right\" to withhold performance or funds when the very agreement they rely upon provides that justification based on the plaintiff\\\\\\'s non-performance. *Sudhir Kumar* serves as a reminder that we must look beyond the plaintiff\\\\\\'s simplified accusation and examine the *justification* for the defendant\\\\\\'s actions under the actual terms agreed upon.\\n\\nThe plaintiff\\'s arguments about complexity and conditions being a distraction are themselves an attempt to distract you from their own failure to comply with the agreement. The evidence has demonstrated that:\\n1. An agreement was made with specific conditions precedent for the defendant\\\\\\'s performance.\\n2. The plaintiff failed to meet these crucial conditions.\\n3. The defendant\\\\\\'s failure to deliver the [services/goods] was a direct and justified consequence of the plaintiff\\\\\\'s own non-performance.\\n4. The defendant\\\\\\'s refusal to refund the money was justified because the plaintiff\\\\\\'s failure to meet conditions did not entitle them to a refund under the contract or applicable law.\\n5. Any harm the plaintiff suffered is a result of their *own* failure to fulfill their contractual obligations, not a breach by the defendant.\\n\\nThis case is not about ignoring fairness or accountability. It is about applying fairness and accountability *to both parties* according to the agreement they willingly entered. When one party fails to meet a crucial condition that enables the other party\\'s performance, the second party is not obligated to proceed as if nothing happened, nor are they automatically required to return funds received subject to those unmet conditions.\\n\\nWe have presented evidence of the agreement, of the conditions within it, and of the plaintiff\\'s failure to meet those conditions. We have shown that the defendant\\'s actions were not a breach, but a justified response dictated by the terms of the contract.\\n\\nAt the conclusion of this trial, we ask you to look beyond the plaintiff\\'s simplified narrative. Consider all the evidence, examine the terms of the agreement, and evaluate the plaintiff\\'s performance against their full obligations, not just the payment. Apply the law as it truly governs contracts with conditions precedent.\\n\\nWe are confident that when you do, you will find that the defendant did not breach the contract, that their actions were justified by the plaintiff\\'s own failures, and that the plaintiff is not entitled to the performance, the refund, or the damages they seek.\\n\\nWe ask you to find in favor of [Defendant\\'s Name/Company].\\n\\nThank you.'},\n",
              "  {'round': 5,\n",
              "   'plaintiff': 'May it please the Court, counsel, ladies and gentlemen of the jury.\\n\\nWe have now reached the final stage of this trial. You have heard all the evidence, and you have heard the closing arguments from both sides. The defendant, in their closing, continued their attempt to portray this case as a tangled web of complex conditions and justified non-performance, suggesting our case is a \"simplified narrative.\"\\n\\nBut let\\'s be clear. The evidence you have seen and heard over the course of this trial has not supported the defendant\\'s complex narrative. It has, in fact, confirmed the straightforward truth we presented from the very beginning.\\n\\nThe evidence proved that [Plaintiff\\'s Name/Company] and [Defendant\\'s Name/Company] entered into a clear agreement. The evidence proved, unequivocally, that [Plaintiff\\'s Name/Company] fulfilled their fundamental obligation under that agreement: they paid the agreed-upon sum of [e.g., Rs. X]. This payment was the very heart of the bargain, the consideration given in exchange for the defendant\\'s promise to deliver the [services/goods/access to funds].\\n\\nThe defendant claims there were \"specific, crucial conditions\" the plaintiff failed to meet, conditions \"embedded within the very agreement\" that legally excused their performance. But what did the evidence *actually* show about these alleged conditions? The evidence showed that the conditions the defendant now points to were either vaguely worded in the contract, were not clearly designated as absolute prerequisites that *must* be met *before* the defendant had to do anything, or were issues that arose because the defendant themselves failed to communicate, cooperate, or manage the process properly.\\n\\nCrucially, the evidence *did not* show that any alleged failure by the plaintiff fundamentally *prevented* the defendant from delivering the [services/goods/access to funds]. The evidence showed the defendant simply *failed* to deliver. They took the money, and they provided nothing in return. That, ladies and gentlemen, is a breach of contract.\\n\\nThe defendant argues that their non-performance was a \"legally recognized consequence\" of the plaintiff\\'s failure. But this is only true if the plaintiff\\'s failure was so significant, so fundamental, that it went to the root of the contract and legally excused the defendant\\'s *entire* obligation *and* justified them keeping the payment. The evidence simply does not support this. The plaintiff\\'s payment was substantial performance of their side of the bargain. The defendant\\'s failure was total non-performance of theirs.\\n\\nLet\\'s address the defendant\\'s continued, and frankly, desperate attempts to twist the legal precedents we discussed.\\n\\nThey still argue that *M/S Volunteer For Village Development* is irrelevant because it \"only\" appointed an arbitrator. This is a deliberate misdirection. The significance of *Volunteer For Village Development* is not *what* the court did next, but *why* it did it. The court found that a dispute arising from a party taking payment and failing to provide services or a refund *is* a legitimate, actionable legal dispute. It confirms that the plaintiff\\'s claim here – paying for something and receiving nothing – is a recognized wrong for which the law provides a remedy. It validates the very basis of our presence in this courtroom, seeking justice for a broken promise.\\n\\nThe defendant persists in twisting *M/S Innovative Crafts*. They claim it supports their view that entitlement is conditional and that the plaintiff here didn\\'t meet conditions like the exporter did. But *Innovative Crafts* supports *us*. The exporter *was* found entitled to the duty drawback *because* they performed the *substance* of their obligation – the export happened, and payment for *that export* was received, even through complex channels. The court looked past technicalities to the core performance. Here, the plaintiff performed the *substance* of their obligation by paying the agreed price. The defendant\\'s obligation to deliver was then triggered. Their failure to deliver the [services/goods] *after* receiving payment is the breach. Their refusal to return the money is precisely the kind of *improper withholding* that the principle of *entitlement* – receiving what you are rightfully due based on performance – is meant to prevent. The defendant\\'s attempt to call their failure a \"justified withholding\" is simply an attempt to escape liability for taking money and providing nothing.\\n\\nAnd their continued, desperate reliance on *Sudhir Kumar* remains the clearest indicator of the weakness of their defense. They claim it stands for a broad principle that actions can be justified by \"governing rules,\" including a contract. This is a fundamental misrepresentation of that case and the law. *Sudhir Kumar* was about whether *criminal* charges could be brought against *bank officials* for exercising a *specific statutory right* – a *general lien under Section 171 of the Indian Contract Act* – over *collateral* for *other outstanding debts*. That is a highly specific, legally defined right applicable *only* to certain relationships (like banker-customer) and circumstances (holding security for a general balance).\\n\\nThis case is *not* about a bank. It is *not* about a statutory lien under Section 171. It is *not* about collateral for other debts. It is a simple commercial contract for [services/goods]. The \"governing rules\" here are the terms of *this specific contract* and the general principles of contract law. And under *those* rules, taking payment and providing nothing in return, without a clear, contractually defined, and *proven* justification that goes to the root of the agreement, is a breach. *Sudhir Kumar* does not give the defendant license to keep the plaintiff\\'s money and deliver nothing. It highlights that legal justification must be *applicable* to the facts, and the defendant has shown *no applicable legal justification* for their total failure here.\\n\\nThe defendant\\'s arguments about complexity and conditions are, as we said from the beginning, a smokescreen designed to distract you from the simple, undeniable facts that the evidence has proven:\\n1. An agreement was made.\\n2. [Plaintiff\\'s Name/Company] paid the price, fulfilling their essential obligation.\\n3. The defendant failed to deliver the [services/goods] as promised.\\n4. The defendant refused to refund the money.\\n5. [Plaintiff\\'s Name/Company] suffered real, quantifiable harm as a direct result of the defendant\\'s breach.\\n\\nThe evidence did *not* show that the plaintiff failed to meet crucial conditions precedent in a way that legally excused the defendant\\'s total non-performance or justified keeping the payment. The evidence did *not* show a legal basis for the defendant\\'s actions.\\n\\nThis case is not about complex legal theory or obscure conditions. It is about fairness, accountability, and the fundamental principle that in a commercial transaction, when you take someone\\'s money, you must either provide what you promised or give the money back. The defendant failed on both counts.\\n\\nWe have presented the evidence. We have shown the defendant\\'s breach. We have shown the resulting harm. We have demonstrated that the defendant\\'s attempts to justify their actions are not supported by the evidence or the applicable law.\\n\\nAt the conclusion of this trial, we ask you to consider all the evidence you have heard and seen. We ask you to apply the law as it truly governs this commercial dispute, not as the defendant attempts to twist it. We are confident that when you do, you will see that the defendant breached the contract, that this breach caused [Plaintiff\\'s Name/Company]\\'s losses, and that [Plaintiff\\'s Name/Company] is rightfully entitled to recover those losses.\\n\\nWe ask you to find in favor of [Plaintiff\\'s Name/Company] and award them the full damages sought, totaling [State the specific total amount sought] Rupees, to compensate them for the defendant\\'s broken promise and unjustified actions.\\n\\nThank you.',\n",
              "   'defendant': 'May it please the Court, counsel, ladies and gentlemen of the jury.\\n\\nYou have now heard the plaintiff\\'s final attempt to persuade you that their failure to perform was somehow justified, that this case is complex, and that the plaintiff is not entitled to the remedy they seek. They continue to argue that our case is a \"simplified narrative\" and that their actions were a \"direct and justified consequence\" of the plaintiff\\'s failure to meet \"crucial conditions.\"\\n\\nBut let\\'s cut through the complexity the defendant attempts to weave and look at what the evidence *actually* proved during this trial.\\n\\nThe evidence proved that [Plaintiff\\'s Name/Company] and [Defendant\\'s Name/Company] entered into an agreement. The evidence proved that [Plaintiff\\'s Name/Company] fulfilled their fundamental obligation under that agreement: they paid the agreed-upon sum of [e.g., Rs. X]. This payment was the consideration for the defendant\\'s promise to deliver the [services/goods/access to funds].\\n\\nThe defendant claims there were \"specific, crucial conditions\" the plaintiff failed to meet, conditions \"embedded within the very agreement.\" But when you examined the contract and heard the testimony, what did you find? You found that the alleged conditions the defendant now relies upon were either vaguely defined, were not clearly designated in the contract as prerequisites that *must* be met *before* the defendant was obligated to perform their core duty, or were issues the defendant themselves failed to raise or manage properly at the time. Crucially, the evidence *did not* show that any alleged failure by the plaintiff fundamentally *prevented* the defendant from delivering the [services/goods/access to funds]. The evidence showed the defendant simply *failed* to deliver, period. And having taken the plaintiff\\'s money, that failure constitutes a breach.\\n\\nThe defendant\\'s assertion that their non-performance was a \"legally recognized consequence under contract law\" for the plaintiff\\'s alleged failure is only true if the plaintiff\\'s failure was of a nature and significance that legally excused the defendant\\'s performance *and* justified keeping the payment. The evidence does not support this. The plaintiff\\'s payment was substantial performance. The defendant\\'s failure was total non-performance.\\n\\nLet\\'s address the defendant\\'s continued mischaracterization of the legal precedents.\\n\\nThey still argue that *M/S Volunteer For Village Development* is irrelevant because it \"only\" appointed an arbitrator. This is a deliberate distraction. The significance of *Volunteer For Village Development* is not *what* the court did next (arbitration), but *why* it did it. The court found that a dispute arising from a party taking payment and failing to provide services or a refund *is* a legitimate, actionable legal dispute. It confirms that the plaintiff\\'s claim here – paying for something and receiving nothing – is a recognized wrong for which the law provides a remedy. It validates the very basis of our presence in this courtroom.\\n\\nThe defendant persists in twisting *M/S Innovative Crafts*. They claim it supports their view that entitlement is conditional and that the plaintiff here didn\\'t meet conditions like the exporter did. But *Innovative Crafts* supports *us*. The exporter *was* found entitled to the duty drawback *because* they performed the *substance* of their obligation – the export happened, and payment for *that export* was received, even through complex channels. The court looked past technicalities to the core performance. Here, the plaintiff performed the *substance* of their obligation by paying the agreed price. The defendant\\'s obligation to deliver was then triggered. Their failure to deliver the [services/goods] *after* receiving payment is the breach. Their refusal to return the money is precisely the kind of *improper withholding* that the principle of *entitlement* – receiving what you are rightfully due based on performance – is meant to prevent. The defendant\\'s attempt to call their failure a \"justified withholding\" is simply an attempt to escape liability for taking money and providing nothing.\\n\\nAnd their continued, desperate reliance on *Sudhir Kumar* remains the clearest indicator of the weakness of their defense. They claim it stands for a broad principle that actions can be justified by \"governing rules,\" including a contract. This is a fundamental misrepresentation of that case and the law. *Sudhir Kumar* was about whether *criminal* charges could be brought against *bank officials* for exercising a *specific statutory right* – a *general lien under Section 171 of the Indian Contract Act* – over *collateral* for *other outstanding debts*. That is a highly specific, legally defined right applicable *only* to certain relationships (like banker-customer) and circumstances (holding security for a general balance).\\n\\nThis case is *not* about a bank. It is *not* about a statutory lien under Section 171. It is *not* about collateral for other debts. It is a simple commercial contract for [services/goods]. The \"governing rules\" here are the terms of *this specific contract* and the general principles of contract law. And under *those* rules, taking payment and providing nothing in return, without a clear, contractually defined, and *proven* justification that goes to the root of the agreement, is a breach. *Sudhir Kumar* does not give the defendant license to keep the plaintiff\\'s money and deliver nothing. It highlights that legal justification must be *applicable* to the facts, and the defendant has shown *no applicable legal justification* for their total failure here.\\n\\nThe defendant\\'s arguments about complexity and conditions are, as we said from the beginning, a smokescreen designed to distract you from the simple, undeniable facts that the evidence has proven:\\n1. An agreement was made.\\n2. [Plaintiff\\'s Name/Company] paid the price, fulfilling their essential obligation.\\n3. The defendant failed to deliver the [services/goods] as promised.\\n4. The defendant refused to refund the money.\\n5. [Plaintiff\\'s Name/Company] suffered real, quantifiable harm as a direct result of the defendant\\'s breach.\\n\\nThe evidence did *not* show that the plaintiff failed to meet crucial conditions precedent in a way that legally excused the defendant\\'s total non-performance or justified keeping the payment. The evidence did *not* show a legal basis for the defendant\\'s actions.\\n\\nThis case is not about complex legal theory or obscure conditions. It is about fairness, accountability, and the fundamental principle that in a commercial transaction, when you take someone\\'s money, you must either provide what you promised or give the money back. The defendant failed on both counts.\\n\\nWe have presented the evidence. We have shown the defendant\\'s breach. We have shown the resulting harm. We have demonstrated that the defendant\\'s attempts to justify their actions are not supported by the evidence or the applicable law.\\n\\nAt the conclusion of this trial, we ask you to consider all the evidence you have heard and seen. We ask you to apply the law as it truly governs this commercial dispute, not as the defendant attempts to twist it. We are confident that when you do, you will see that the defendant breached the contract, that this breach caused [Plaintiff\\'s Name/Company]\\'s losses, and that [Plaintiff\\'s Name/Company] is rightfully entitled to recover those losses.\\n\\nWe ask you to find in favor of [Plaintiff\\'s Name/Company] and award them the full damages sought, totaling [State the specific total amount sought] Rupees, to compensate them for the defendant\\'s broken promise and unjustified actions.\\n\\nThank you.\\n\\n---\\n\\nMay it please the Court, counsel, ladies and gentlemen of the jury.\\n\\nThe plaintiff has just delivered their closing argument, once again attempting to reduce this case to a simplistic narrative of \"agreement, payment, failure, harm.\" They dismiss our defense as a \"smokescreen\" and a \"mischaracterization\" of the law and the facts. But their insistence on simplicity cannot erase the reality of the agreement the parties actually signed and the events that actually transpired.\\n\\nThe plaintiff claims the evidence showed they fulfilled their \"fundamental obligation\" by paying the agreed sum, and that the defendant simply \"failed to deliver, period.\" This is the core of their oversimplification. The evidence *did* show payment, yes. But the evidence *also* showed that the agreement contained specific, crucial conditions that the plaintiff was required to meet *before* the defendant\\'s obligation to deliver was triggered. These were not vague suggestions; they were [briefly mention the type of crucial condition the plaintiff allegedly failed, e.g., clearly defined requirements for necessary information, specific actions needed to enable delivery, deadlines tied to plaintiff\\'s responsibilities] embedded within the contract. The evidence proved that the plaintiff *failed* to meet these specific, necessary conditions. This failure was not minor; it was a fundamental impediment that prevented the defendant from proceeding with their performance as contemplated by the agreement.\\n\\nThe plaintiff argues that their payment was \"substantial performance\" and the defendant\\'s failure was \"total non-performance.\" But under contract law, if a party fails to meet a condition precedent to the other party\\'s performance, the second party\\'s obligation is *excused*. The defendant\\'s non-performance was not a breach; it was a legally recognized consequence of the plaintiff\\'s own failure to satisfy a contractual prerequisite. The evidence supports *this* reality, not the plaintiff\\'s simplified version.\\n\\nNow, let\\'s address the plaintiff\\'s continued distortion of the legal precedents.\\n\\nThey argue that *M/S Volunteer For Village Development* validates their claim because it confirms their \"type\" of dispute is actionable. Again, this misses the point entirely. That court *only* decided that a dispute existed that needed to go to arbitration. It did *not* rule on the merits of the plaintiff\\'s claim in that case. It did *not* say the defendant there was wrong or that the plaintiff was entitled to a remedy. It simply confirmed that contract disputes happen and need resolution. It offers no support for the plaintiff\\'s assertion that they are automatically entitled to judgment here, particularly when the defendant\\'s non-performance is justified by the plaintiff\\'s own contractual failures. It simply confirms that contract disputes happen and need resolution – a point no one disputes.\\n\\nThe plaintiff\\'s attempt to twist *M/S Innovative Crafts* is equally unpersuasive. They claim it supports entitlement based on the \"substance\" of their performance (payment) and that courts look past technicalities. But what was the \"substance\" in *Innovative Crafts*? It was the *fulfillment of the specific conditions* required for the duty drawback – the export happened, and payment for *that specific export* was received. The court looked past *how* the payment arrived (third party), but not past the *fact* that the core conditions for the benefit were met. In *this* case, the plaintiff *failed* to meet the specific conditions required by *our* agreement to trigger *our* performance obligation. Their payment was one step, but not the step that enabled or required our core delivery. Our action was not an \"improper withholding\" like denying a benefit when conditions were met; it was a justified withholding of performance and funds because the plaintiff *failed* to meet the necessary prerequisites defined in the contract. *Innovative Crafts* actually supports *our* position: entitlement is conditional, and you must meet the conditions.\\n\\nMost telling is the plaintiff\\'s continued, strained effort to dismiss *Sudhir Kumar*. They call it \"baffling\" and a \"clear misdirection,\" insisting it\\'s only about a bank lien and criminal law. With respect, this is *their* misdirection, an attempt to avoid the fundamental legal principle that case highlights. We never argued this case involves a bank lien under Section 171. What *Sudhir Kumar* stands for, and why it *is* relevant here, is the principle that actions which, on the surface, might look like an improper failure to release property or perform an obligation, can be entirely *justified* by a legally recognized right or the terms governing the relationship between the parties. The bank in *Sudhir Kumar* was justified by its statutory lien. The defendant in *this* case was justified by the terms of the *contract* and the plaintiff\\'s failure to meet the conditions precedent within that contract. The *principle* is the same: a party is not in breach if their actions are justified by the governing rules – be it a statute like Section 171 or the specific clauses of a commercial agreement. The plaintiff has no basis to claim the defendant lacks an \"applicable legal right\" to withhold performance or funds when the very agreement they rely upon provides that justification based on the plaintiff\\'s non-performance. *Sudhir Kumar* serves as a reminder that we must look beyond the plaintiff\\'s simplified accusation and examine the *justification* for the defendant\\'s actions under the actual terms agreed upon.\\n\\nThe plaintiff\\'s arguments about complexity and conditions being a distraction are themselves an attempt to distract you from their own failure to comply with the agreement. The evidence has demonstrated that:\\n1. An agreement was made with specific conditions precedent for the defendant\\'s performance.\\n2. The plaintiff failed to meet these crucial conditions.\\n3. The defendant\\'s failure to deliver the [services/goods] was a direct and justified consequence of the plaintiff\\'s own non-performance.\\n4. The defendant\\'s refusal to refund the money was justified because the plaintiff\\'s failure to meet conditions did not entitle them to a refund under the contract or applicable law.\\n5. Any harm the plaintiff suffered is a result of their *own* failure to fulfill their contractual obligations, not a breach by the defendant.\\n\\nThis case is not about ignoring fairness or accountability. It is about applying fairness and accountability *to both parties* according to the agreement they willingly entered. When one party fails to meet a crucial condition that enables the other party\\'s performance, the second party is not obligated to proceed as if nothing happened, nor are they automatically required to return funds received subject to those unmet conditions.\\n\\nWe have presented evidence of the agreement, of the conditions within it, and of the plaintiff\\'s failure to meet those conditions. We have shown that the defendant\\'s actions were not a breach, but a justified response dictated by the terms of the contract.\\n\\nAt the conclusion of this trial, we ask you to look beyond the plaintiff\\'s simplified narrative. Consider all the evidence, examine the terms of the agreement, and evaluate the plaintiff\\'s performance against their full obligations, not just the payment. Apply the law as it truly governs contracts with conditions precedent.\\n\\nWe are confident that when you do, you will find that the defendant did not breach the contract, that their actions were justified by the plaintiff\\'s own failures, and that the plaintiff is not entitled to the performance, the refund, or the damages they seek.\\n\\nWe ask you to find in favor of [Defendant\\'s Name/Company].\\n\\nThank you.'}],\n",
              " 'Okay, I have analyzed the arguments and the precedents as presented by both parties.\\n\\n**1. Final Verdict:**\\n\\nPlaintiff wins.\\n\\n**2. Reasoning Summary:**\\n\\nThe plaintiff has successfully established a prima facie case for breach of contract, centered on a clear narrative: an agreement was made, the plaintiff performed their primary obligation (payment), and the defendant failed to deliver the agreed-upon services/goods and also failed to issue a refund. The defendant\\'s defense hinges on the assertion that the plaintiff failed to meet certain \"conditions precedent\" which justified the defendant\\'s non-performance and retention of funds.\\n\\nMy reasoning is as follows:\\n\\n*   **Strength of Plaintiff\\'s Core Argument:** The plaintiff\\'s argument is straightforward and aligns with fundamental principles of contract law: payment for services/goods creates an obligation for the other party to perform or refund. The plaintiff consistently maintained that their payment constituted substantial performance of their obligations, triggering the defendant\\'s duty.\\n\\n*   **Defendant\\'s \"Conditions Precedent\" Defense:** While a valid defense in principle, its persuasiveness in this debate is weakened. The plaintiff effectively argued that these alleged conditions were either not true conditions precedent, were minor, waived, or did not fundamentally prevent the defendant from performing their core obligation or, at minimum, refunding the payment. The defendant asserts these conditions were \"crucial\" and \"embedded,\" but the plaintiff\\'s counter that the evidence would show otherwise (or that they didn\\'t justify *total* non-performance and retention of funds) casts significant doubt on the defendant\\'s position, especially without the specifics of these conditions being substantiated beyond assertion.\\n\\n*   **Interpretation and Application of Precedents:**\\n\\n    *   **M/S Volunteer For Village Development:** The plaintiff\\'s interpretation is more persuasive. While the defendant correctly notes the case resulted in an arbitrator\\'s appointment and not a ruling on merits, the plaintiff rightly uses it to establish that a claim involving failure to perform/refund after payment constitutes a legitimate, actionable dispute. It supports the *type* of claim being made. The defendant\\'s narrow reading misses this broader principle that the plaintiff effectively leverages.\\n\\n    *   **M/S Innovative Crafts:** Both parties offer plausible interpretations, but the plaintiff\\'s argument gains more traction. The defendant emphasizes that entitlement is conditional, which is true. However, the plaintiff argues that *Innovative Crafts* shows courts look to the \"substance\" of performance and will ensure a party receives what they are rightfully *entitled* to, cutting through technicalities. The plaintiff posits their payment as the \"substance,\" triggering entitlement. The court in *Innovative Crafts* did find entitlement despite \"complex payment routes\" once the core obligations (export and receipt of payment) were met. If the defendant\\'s alleged \"conditions precedent\" were not truly fundamental or did not prevent the defendant\\'s core performance, then the plaintiff\\'s argument that they fulfilled the substance of their obligation (payment) and are entitled to performance or refund (and that withholding both is \"improper\") is compelling. The defendant\\'s case here relies heavily on their unproven assertion that the plaintiff\\'s alleged failures were as critical as the actual export in *Innovative Crafts*.\\n\\n    *   **Sudhir Kumar & Ors.:** The plaintiff decisively dismantles the defendant\\'s reliance on this case. *Sudhir Kumar* is highly specific to a banker\\'s statutory right of general lien under Section 171 of the Indian Contract Act in the context of quashing *criminal* proceedings. The defendant\\'s attempt to extrapolate a general principle that *any* contractual term can justify withholding performance in the same way a specific statutory lien does is a significant overreach. The plaintiff correctly points out the vast differences in facts and legal rights (a commercial contract for goods/services vs. a bank\\'s statutory lien over collateral for other debts). The defendant\\'s repeated reliance on this ill-fitting precedent significantly weakens their overall legal grounding. The plaintiff successfully frames it as a \"desperate reliance\" and a \"misdirection.\"\\n\\n*   **Clarity and Consistency:** The plaintiff maintained a clearer and more consistent narrative throughout the rounds. The defendant\\'s narrative, while attempting to introduce necessary complexity, became somewhat muddled by its strained application of *Sudhir Kumar*.\\n\\n*   **Burden of Justification:** Once the plaintiff establishes payment and non-delivery/non-refund, the burden shifts to the defendant to justify their actions. The defendant\\'s justification (unmet conditions precedent) is asserted, but the plaintiff\\'s counter-arguments and, critically, the defendant\\'s weak legal analogy with *Sudhir Kumar*, make this justification less convincing within the scope of this debate. The defendant did not sufficiently demonstrate that the alleged unmet conditions legally excused *both* non-performance *and* the retention of the entire sum paid.\\n\\nTherefore, based on the arguments presented and the interpretation of the cited precedents within the simulated debate, the plaintiff has presented a more compelling case for breach of contract and entitlement to damages/refund. The defendant\\'s justifications, particularly their reliance on an expansive interpretation of *Sudhir Kumar*, are not sufficiently grounded to overcome the plaintiff\\'s claims.')"
            ]
          },
          "metadata": {},
          "execution_count": 95
        }
      ]
    },
    {
      "cell_type": "code",
      "source": [],
      "metadata": {
        "id": "TYrq7hK5GKDq"
      },
      "id": "TYrq7hK5GKDq",
      "execution_count": null,
      "outputs": []
    }
  ],
  "metadata": {
    "kernelspec": {
      "display_name": "Python 3",
      "language": "python",
      "name": "python3"
    },
    "language_info": {
      "codemirror_mode": {
        "name": "ipython",
        "version": 3
      },
      "file_extension": ".py",
      "mimetype": "text/x-python",
      "name": "python",
      "nbconvert_exporter": "python",
      "pygments_lexer": "ipython3",
      "version": "3.10.10"
    },
    "colab": {
      "provenance": [],
      "name": "Legal Orchestrator"
    }
  },
  "nbformat": 4,
  "nbformat_minor": 5
}