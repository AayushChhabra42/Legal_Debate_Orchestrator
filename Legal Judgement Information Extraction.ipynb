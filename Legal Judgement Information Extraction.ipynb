{
  "cells": [
    {
      "cell_type": "markdown",
      "source": [
        "## Loading Judgement Texts"
      ],
      "metadata": {
        "id": "nN2T21dsT9HK"
      },
      "id": "nN2T21dsT9HK"
    },
    {
      "cell_type": "code",
      "source": [
        "# prompt: read and load each file in a directory of text files into a list called files\n",
        "\n",
        "# directory_path=\"/content/extracted_text\"\n",
        "\n",
        "# import os\n",
        "# files=[]\n",
        "# for filename in os.listdir(directory_path):\n",
        "#   with open(os.path.join(directory_path, filename), 'r') as f:\n",
        "#     files.append(f.read())\n"
      ],
      "metadata": {
        "id": "3ajSUklkT5y-"
      },
      "id": "3ajSUklkT5y-",
      "execution_count": null,
      "outputs": []
    },
    {
      "cell_type": "code",
      "source": [
        "# With BigQuery DataFrames, you can use many familiar Pandas methods, but the\n",
        "# processing happens in BigQuery rather than the runtime, allowing you to work with larger\n",
        "# DataFrames that would otherwise not fit in the runtime memory.\n",
        "# Learn more here: https://cloud.google.com/python/docs/reference/bigframes/latest\n",
        "\n",
        "import bigframes.pandas as bf\n",
        "\n",
        "bf.options.bigquery.location = \"asia-south2\" #this variable is set based on the dataset you chose to query\n",
        "bf.options.bigquery.project = \"extreme-course-459207-v5\" #this variable is set based on the dataset you chose to query"
      ],
      "metadata": {
        "id": "tJSfAiHycbAj",
        "executionInfo": {
          "status": "ok",
          "timestamp": 1747594619102,
          "user_tz": -330,
          "elapsed": 220,
          "user": {
            "displayName": "",
            "userId": ""
          }
        }
      },
      "execution_count": 6,
      "outputs": [],
      "id": "tJSfAiHycbAj"
    },
    {
      "cell_type": "code",
      "source": [
        "df = bf.read_gbq(\"extreme-course-459207-v5.legal_judgement_texts.judgements\") #this variable is set based on the dataset you chose to query"
      ],
      "metadata": {
        "colab": {
          "base_uri": "https://localhost:8080/"
        },
        "id": "HnJLqtbvhT6p",
        "executionInfo": {
          "status": "ok",
          "timestamp": 1747594622389,
          "user_tz": -330,
          "elapsed": 1168,
          "user": {
            "displayName": "",
            "userId": ""
          }
        },
        "outputId": "b0069152-6dfe-480d-8241-361827c9317c"
      },
      "id": "HnJLqtbvhT6p",
      "execution_count": 7,
      "outputs": [
        {
          "output_type": "stream",
          "name": "stderr",
          "text": [
            "/usr/local/lib/python3.10/dist-packages/IPython/core/interactiveshell.py:3553: UserWarning: Reading cached table from 2025-05-18 18:39:13.059700+00:00 to avoid\n",
            "incompatibilies with previous reads of this table. To read the latest\n",
            "version, set `use_cache=False` or close the current session with\n",
            "Session.close() or bigframes.pandas.close_session().\n",
            "  exec(code_obj, self.user_global_ns, self.user_ns)\n"
          ]
        }
      ]
    },
    {
      "cell_type": "code",
      "source": [
        "df.head(5)"
      ],
      "metadata": {
        "colab": {
          "base_uri": "https://localhost:8080/",
          "height": 270
        },
        "id": "cRGuFOzchZwM",
        "executionInfo": {
          "status": "ok",
          "timestamp": 1747594628843,
          "user_tz": -330,
          "elapsed": 4821,
          "user": {
            "displayName": "",
            "userId": ""
          }
        },
        "outputId": "229329f7-661f-4b0d-c569-e910e78fe328"
      },
      "id": "cRGuFOzchZwM",
      "execution_count": 8,
      "outputs": [
        {
          "output_type": "display_data",
          "data": {
            "text/plain": [
              "<IPython.core.display.HTML object>"
            ],
            "text/html": [
              "Query job 4e031207-e0db-41a8-b177-56dbd90d60cb is DONE. 71.9 MB processed. <a target=\"_blank\" href=\"https://console.cloud.google.com/bigquery?project=extreme-course-459207-v5&j=bq:asia-south2:4e031207-e0db-41a8-b177-56dbd90d60cb&page=queryresults\">Open Job</a>"
            ]
          },
          "metadata": {}
        },
        {
          "output_type": "execute_result",
          "data": {
            "text/plain": [
              "                                         filename  \\\n",
              "0          &name=MMH03102024LPA9882024_193659.txt   \n",
              "1  &name=CHS11072024OMPMISCCOMM5182024_193006.txt   \n",
              "2           &name=ABL04122024SC5982023_151341.txt   \n",
              "3          &name=62712092024CW20622023_175803.txt   \n",
              "4       &name=MKO28052024CRLMM35412023_180926.txt   \n",
              "\n",
              "                                                text  \n",
              "0  LPA No.988/2024\n",
              "Page 1 of 3$~27\n",
              "* IN THE HIGH ...  \n",
              "1  O.M.P.(MISC.)(COMM.) 518/2024 Page 1of2$~49\n",
              "* ...  \n",
              "2  CS(COMM) 598/2023 Page 1 of 9$~33\n",
              "* IN THE HIG...  \n",
              "3  W.P. (C) 2062/2023 Page 1 of 7 $~ \n",
              "*  IN THE H...  \n",
              "4   \n",
              "CRL.M.C.3541/2023                           ...  \n",
              "\n",
              "[5 rows x 2 columns]"
            ],
            "text/html": [
              "<div>\n",
              "<style scoped>\n",
              "    .dataframe tbody tr th:only-of-type {\n",
              "        vertical-align: middle;\n",
              "    }\n",
              "\n",
              "    .dataframe tbody tr th {\n",
              "        vertical-align: top;\n",
              "    }\n",
              "\n",
              "    .dataframe thead th {\n",
              "        text-align: right;\n",
              "    }\n",
              "</style>\n",
              "<table border=\"1\" class=\"dataframe\">\n",
              "  <thead>\n",
              "    <tr style=\"text-align: right;\">\n",
              "      <th></th>\n",
              "      <th>filename</th>\n",
              "      <th>text</th>\n",
              "    </tr>\n",
              "  </thead>\n",
              "  <tbody>\n",
              "    <tr>\n",
              "      <th>0</th>\n",
              "      <td>&amp;name=MMH03102024LPA9882024_193659.txt</td>\n",
              "      <td>LPA No.988/2024\n",
              "Page 1 of 3$~27\n",
              "* IN THE HIGH ...</td>\n",
              "    </tr>\n",
              "    <tr>\n",
              "      <th>1</th>\n",
              "      <td>&amp;name=CHS11072024OMPMISCCOMM5182024_193006.txt</td>\n",
              "      <td>O.M.P.(MISC.)(COMM.) 518/2024 Page 1of2$~49\n",
              "* ...</td>\n",
              "    </tr>\n",
              "    <tr>\n",
              "      <th>2</th>\n",
              "      <td>&amp;name=ABL04122024SC5982023_151341.txt</td>\n",
              "      <td>CS(COMM) 598/2023 Page 1 of 9$~33\n",
              "* IN THE HIG...</td>\n",
              "    </tr>\n",
              "    <tr>\n",
              "      <th>3</th>\n",
              "      <td>&amp;name=62712092024CW20622023_175803.txt</td>\n",
              "      <td>W.P. (C) 2062/2023 Page 1 of 7 $~ \n",
              "*  IN THE H...</td>\n",
              "    </tr>\n",
              "    <tr>\n",
              "      <th>4</th>\n",
              "      <td>&amp;name=MKO28052024CRLMM35412023_180926.txt</td>\n",
              "      <td>CRL.M.C.3541/2023                           ...</td>\n",
              "    </tr>\n",
              "  </tbody>\n",
              "</table>\n",
              "<p>5 rows × 2 columns</p>\n",
              "</div>[5 rows x 2 columns in total]"
            ]
          },
          "metadata": {},
          "execution_count": 8
        }
      ]
    },
    {
      "cell_type": "code",
      "source": [
        "df.iloc[0]['text']"
      ],
      "metadata": {
        "colab": {
          "base_uri": "https://localhost:8080/",
          "height": 197
        },
        "id": "ar_Vy6ivh9hF",
        "executionInfo": {
          "status": "ok",
          "timestamp": 1747594632612,
          "user_tz": -330,
          "elapsed": 3771,
          "user": {
            "displayName": "",
            "userId": ""
          }
        },
        "outputId": "25deda4e-7ad6-4577-dcf1-a01a1ecaf1af"
      },
      "id": "ar_Vy6ivh9hF",
      "execution_count": 9,
      "outputs": [
        {
          "output_type": "display_data",
          "data": {
            "text/plain": [
              "<IPython.core.display.HTML object>"
            ],
            "text/html": [
              "Query job 2acdaf22-2abd-482d-856e-c823ab467948 is DONE. 71.9 MB processed. <a target=\"_blank\" href=\"https://console.cloud.google.com/bigquery?project=extreme-course-459207-v5&j=bq:asia-south2:2acdaf22-2abd-482d-856e-c823ab467948&page=queryresults\">Open Job</a>"
            ]
          },
          "metadata": {}
        },
        {
          "output_type": "execute_result",
          "data": {
            "text/plain": [
              "\"LPA No.988/2024\\nPage 1 of 3$~27\\n* IN THE HIGH COURT OF DELHI AT NEW DELHI\\n+ LPA 988/2024 & C.M.Nos.58144-58146/2024\\nMASTER EKLAVYA KOCHHAR & ORS. .....Appellants\\nThrough: Mr.Nitin Bhardwaj with\\nMr.M.P.Bhargava and Dr.Anurag\\nBhardwaj, Advocates.\\nversus\\nBAL BHARATI PUBLIC SCHOOL & ORS. .....Respondents\\nThrough: Mr.Kamal Gupta with Mr.Sparsh\\nAggarwal and Ms.Yosha Dutt,\\nAdvocates for School.\\nMr.Karn Bhardwaj, ASC for GNCTD\\nwith Mr.Shubham Singh, Mr.Rajat\\nGaba and Mr.Saurabh Dahiya,\\nAdvocates for DOE.\\n% Date of Decision: 03rdOctober, 2024\\nCORAM:\\nHON'BLE THE CHIEF JUSTICE\\nHON'BLE MR. JUSTICE TUSHAR RAO GEDELA\\nJUDGMENT\\nMANMOHAN, ACJ : (ORAL)\\n1. Present appeal has been filed challenging the order dated 24thJuly,\\n2024 passed by learned Single Judge in W.P.(C) 6112/2020 whereby learned\\nSingle Judge dismissed the application being C.M.No.41586/2024 filed by\\nthe Appellants herein to restrain Respondent no.1/school from charging fees\\nas per the rejected fee structure proposal for academic year 2019-2020.\\nLPA No.988/2024\\nPage 2 of 32. Learned counsel for the Appellants states that Respondent\\nno.3/Directorate of Education (“DoE”) issued general directions on 18th\\nApril, 2020 directing schools not to hike school fees and charge fees on a\\nmonthly basis. He states that in violation of the aforementioned directions,\\nwhich have not been stayed by any Court, Respondent no.1 demanded\\nschool fees on a quarterly basis in advance.\\n3. He states that the Appellants filed an application seeking directions to\\nthe Respondent no.1/school to charge school fees as per last approved fees\\n(2015-2016) by the DoE.\\n4. He states that Respondent no.1/school has been continuously charging\\nhiked fees for session 2019-2020 even though the fee structure proposal for\\nsession 2019-2020 was rejected vide order dated 24thSeptember, 2021\\npassed by the DoE. He states that the order dated 24thSeptember, 2021\\npassed by the DoE was challenged by Respondent no.1/school in W.P. (C)\\n12266/2021, however, no stay has been granted by this Court against the\\nDoE order dated 24thSeptember, 2021.\\n5. Per contra , learned counsel for the Respondent no.1/school states that\\nin W.P.(C) No.12266/2021, a learned Single Judge of this Court has\\nrestrained the DoE from taking any coercive steps against the Petitioner(s) in\\npursuance to the order dated 24thSeptember, 2021 passed by the DoE. He\\nalso refutes all the contentions and submissions advanced by learned counsel\\nfor the Appellants.\\n6. Having perused the paper book, this Court finds that the present case\\nis a part of batch of 150 matters, which is being heard by the learned Single\\nJudge. The relief being sought by the Appellants in the subject petition with\\nrespect to Respondent no.1/school’s act of charging fees as per rejected fee\\nLPA No.988/2024\\nPage 3 of 3structure proposal for academic session 2019-2020 relates to the larger issue\\nof powers of DoE to regulate fees structure of private unaided schools.\\n7. It is pertinent to note that vide order dated 10thMay, 2021 passed in\\nthe subject petition, the learned Single Judge has clarified that all payments\\nmade by the Appellants/Petitioners and accepted by the Respondent\\nno.1/school are without prejudice to the rights and contentions of the parties\\nin the underlying writ petition, and subject to such adjustment as the Court\\nmay direct.\\n8. Consequently, this Court is not inclined to interfere with the\\nimpugned order. Accordingly, the present appeal along with the\\napplications is dismissed. It is clarified that the rights and contentions of all\\nthe parties before the learned Single Judge are left open.\\nCHIEF JUSTICE\\nTUSHAR RAO GEDELA, J\\nOCTOBER 3, 2024\\nKA\\n\""
            ],
            "application/vnd.google.colaboratory.intrinsic+json": {
              "type": "string"
            }
          },
          "metadata": {},
          "execution_count": 9
        }
      ]
    },
    {
      "cell_type": "markdown",
      "source": [
        "## Legal Entities Extraction"
      ],
      "metadata": {
        "id": "jaLa6cceBq4N"
      },
      "id": "jaLa6cceBq4N"
    },
    {
      "cell_type": "code",
      "id": "pcPzdcxU1Ho9l03UczJVnDz0",
      "metadata": {
        "tags": [],
        "id": "pcPzdcxU1Ho9l03UczJVnDz0",
        "colab": {
          "base_uri": "https://localhost:8080/"
        },
        "executionInfo": {
          "status": "ok",
          "timestamp": 1747594638079,
          "user_tz": -330,
          "elapsed": 3855,
          "user": {
            "displayName": "",
            "userId": ""
          }
        },
        "outputId": "d3ea66ad-b9a0-490d-e325-828a2d9fb434"
      },
      "source": [
        "!pip3 install --upgrade --user google-genai"
      ],
      "execution_count": 10,
      "outputs": [
        {
          "output_type": "stream",
          "name": "stdout",
          "text": [
            "Requirement already satisfied: google-genai in /root/.local/lib/python3.10/site-packages (1.15.0)\n",
            "Requirement already satisfied: anyio<5.0.0,>=4.8.0 in /root/.local/lib/python3.10/site-packages (from google-genai) (4.9.0)\n",
            "Requirement already satisfied: google-auth<3.0.0,>=2.14.1 in /usr/local/lib/python3.10/dist-packages (from google-genai) (2.27.0)\n",
            "Requirement already satisfied: httpx<1.0.0,>=0.28.1 in /usr/local/lib/python3.10/dist-packages (from google-genai) (0.28.1)\n",
            "Requirement already satisfied: pydantic<3.0.0,>=2.0.0 in /usr/local/lib/python3.10/dist-packages (from google-genai) (2.10.4)\n",
            "Requirement already satisfied: requests<3.0.0,>=2.28.1 in /usr/local/lib/python3.10/dist-packages (from google-genai) (2.32.3)\n",
            "Requirement already satisfied: websockets<15.1.0,>=13.0.0 in /usr/local/lib/python3.10/dist-packages (from google-genai) (14.1)\n",
            "Requirement already satisfied: typing-extensions<5.0.0,>=4.11.0 in /usr/local/lib/python3.10/dist-packages (from google-genai) (4.12.2)\n",
            "Requirement already satisfied: exceptiongroup>=1.0.2 in /usr/local/lib/python3.10/dist-packages (from anyio<5.0.0,>=4.8.0->google-genai) (1.2.2)\n",
            "Requirement already satisfied: idna>=2.8 in /usr/local/lib/python3.10/dist-packages (from anyio<5.0.0,>=4.8.0->google-genai) (3.10)\n",
            "Requirement already satisfied: sniffio>=1.1 in /usr/local/lib/python3.10/dist-packages (from anyio<5.0.0,>=4.8.0->google-genai) (1.3.1)\n",
            "Requirement already satisfied: cachetools<6.0,>=2.0.0 in /usr/local/lib/python3.10/dist-packages (from google-auth<3.0.0,>=2.14.1->google-genai) (5.5.0)\n",
            "Requirement already satisfied: pyasn1-modules>=0.2.1 in /usr/local/lib/python3.10/dist-packages (from google-auth<3.0.0,>=2.14.1->google-genai) (0.4.1)\n",
            "Requirement already satisfied: rsa<5,>=3.1.4 in /usr/local/lib/python3.10/dist-packages (from google-auth<3.0.0,>=2.14.1->google-genai) (4.9)\n",
            "Requirement already satisfied: certifi in /usr/local/lib/python3.10/dist-packages (from httpx<1.0.0,>=0.28.1->google-genai) (2024.12.14)\n",
            "Requirement already satisfied: httpcore==1.* in /usr/local/lib/python3.10/dist-packages (from httpx<1.0.0,>=0.28.1->google-genai) (1.0.7)\n",
            "Requirement already satisfied: h11<0.15,>=0.13 in /usr/local/lib/python3.10/dist-packages (from httpcore==1.*->httpx<1.0.0,>=0.28.1->google-genai) (0.14.0)\n",
            "Requirement already satisfied: annotated-types>=0.6.0 in /usr/local/lib/python3.10/dist-packages (from pydantic<3.0.0,>=2.0.0->google-genai) (0.7.0)\n",
            "Requirement already satisfied: pydantic-core==2.27.2 in /usr/local/lib/python3.10/dist-packages (from pydantic<3.0.0,>=2.0.0->google-genai) (2.27.2)\n",
            "Requirement already satisfied: charset-normalizer<4,>=2 in /usr/local/lib/python3.10/dist-packages (from requests<3.0.0,>=2.28.1->google-genai) (3.4.1)\n",
            "Requirement already satisfied: urllib3<3,>=1.21.1 in /usr/local/lib/python3.10/dist-packages (from requests<3.0.0,>=2.28.1->google-genai) (2.3.0)\n",
            "Requirement already satisfied: pyasn1<0.7.0,>=0.4.6 in /usr/local/lib/python3.10/dist-packages (from pyasn1-modules>=0.2.1->google-auth<3.0.0,>=2.14.1->google-genai) (0.6.1)\n"
          ]
        }
      ]
    },
    {
      "cell_type": "markdown",
      "id": "ma0Ax3IpW8TwflpHqwbTn6LC",
      "metadata": {
        "tags": [],
        "id": "ma0Ax3IpW8TwflpHqwbTn6LC"
      },
      "source": [
        "2. Use the following code in your application to request a model response"
      ]
    },
    {
      "cell_type": "code",
      "id": "mgChrVKCaHrG9gnIBQAaw827",
      "metadata": {
        "tags": [],
        "id": "mgChrVKCaHrG9gnIBQAaw827",
        "executionInfo": {
          "status": "ok",
          "timestamp": 1747594646364,
          "user_tz": -330,
          "elapsed": 2839,
          "user": {
            "displayName": "",
            "userId": ""
          }
        }
      },
      "source": [
        "from google import genai\n",
        "from google.genai import types\n",
        "import base64\n",
        "\n",
        "def generate(input_text):\n",
        "\n",
        "  client = genai.Client(\n",
        "      vertexai=True,\n",
        "      project=\"extreme-course-459207-v5\",\n",
        "      location=\"us-central1\",\n",
        "  )\n",
        "\n",
        "  prompt=\"\"\"\n",
        "  You will be provided with a raw legal judgement:\n",
        "\n",
        "  Your task is to extract the following key components from the judgement:\n",
        ".\n",
        "\n",
        "  *  **Parties:** The entities (individuals, organizations, etc.) involved in the case.\n",
        "  *  **Facts:** A summary of the key events and circumstances that led to the legal dispute.\n",
        "  *  **Issues:** The specific legal questions or points of contention that the court must resolve.\n",
        "  *  **Rulings:** The court's decisions or conclusions on each of the issues presented.\n",
        "  *  **Legal Dependencies:** Any statutes, precedents, or other legal authorities that the court relied upon in making its rulings.\n",
        "\n",
        "  Output the extracted information in a structured JSON format. The JSON object should have the following structure:\n",
        "  {\n",
        "     \\\"parties\\\": [\n",
        "      {\n",
        "       \\\"name\\\": \\\"\\\",\n",
        "       \\\"role\\\": \\\"\\\"\n",
        "      }\n",
        "     ],\n",
        "     \\\"facts\\\": \\\"\\\",\n",
        "     \\\"rulings\\\":\\\"\\\",\n",
        "     \\\"legal_citations\\\": [\n",
        "      \\\"\\\",\n",
        "      \\\"\\\"\n",
        "   ]\n",
        "  }\n",
        "\n",
        "\n",
        "  Ensure that the extracted information is accurate and comprehensive. Ensure the citations are correct and DO NOT HALLUCINATE\".\n",
        "  Return only the json output and no other text\n",
        "  \"\"\"\n",
        "\n",
        "  text=prompt+input_text\n",
        "\n",
        "  text1 = types.Part.from_text(text=text)\n",
        "\n",
        "  model = \"publishers/google/models/gemini-2.0-flash-001\"\n",
        "  contents = [\n",
        "    types.Content(\n",
        "      role=\"user\",\n",
        "      parts=[\n",
        "        text1\n",
        "      ]\n",
        "    )\n",
        "  ]\n",
        "  generate_content_config = types.GenerateContentConfig(\n",
        "    temperature = 0.30,\n",
        "    top_p = 0.95,\n",
        "    seed = 0,\n",
        "    max_output_tokens = 8192,\n",
        "    response_modalities = [\"TEXT\"],\n",
        "    safety_settings = [types.SafetySetting(\n",
        "      category=\"HARM_CATEGORY_HATE_SPEECH\",\n",
        "      threshold=\"OFF\"\n",
        "    ),types.SafetySetting(\n",
        "      category=\"HARM_CATEGORY_DANGEROUS_CONTENT\",\n",
        "      threshold=\"OFF\"\n",
        "    ),types.SafetySetting(\n",
        "      category=\"HARM_CATEGORY_SEXUALLY_EXPLICIT\",\n",
        "      threshold=\"OFF\"\n",
        "    ),types.SafetySetting(\n",
        "      category=\"HARM_CATEGORY_HARASSMENT\",\n",
        "      threshold=\"OFF\"\n",
        "    )],\n",
        "  )\n",
        "\n",
        "  result=\"\"\n",
        "\n",
        "  for chunk in client.models.generate_content_stream(\n",
        "    model = model,\n",
        "    contents = contents,\n",
        "    config = generate_content_config,\n",
        "    ):\n",
        "    result+=chunk.text+\"\"\n",
        "\n",
        "  return result"
      ],
      "execution_count": 11,
      "outputs": []
    },
    {
      "cell_type": "markdown",
      "source": [
        "Writing json files"
      ],
      "metadata": {
        "id": "5KtkULB5YSPL"
      },
      "id": "5KtkULB5YSPL"
    },
    {
      "cell_type": "code",
      "source": [
        "import json\n",
        "\n",
        "def str_to_dict(input_text: str) -> dict:\n",
        "  striped_input_text_start=input_text.find(\"{\")\n",
        "  stripped_text=input_text[striped_input_text_start:]\n",
        "  stripped_text=stripped_text.strip(\"```\")\n",
        "  return json.loads(stripped_text)"
      ],
      "metadata": {
        "id": "e_R4LrVkPe6e",
        "executionInfo": {
          "status": "ok",
          "timestamp": 1747594650226,
          "user_tz": -330,
          "elapsed": 218,
          "user": {
            "displayName": "",
            "userId": ""
          }
        }
      },
      "id": "e_R4LrVkPe6e",
      "execution_count": 12,
      "outputs": []
    },
    {
      "cell_type": "code",
      "source": [
        "sample_judgement=df.iloc[1]['text']\n",
        "sample_op=str_to_dict(generate(sample_judgement))"
      ],
      "metadata": {
        "colab": {
          "base_uri": "https://localhost:8080/",
          "height": 34
        },
        "id": "b-BEtXJTi83w",
        "executionInfo": {
          "status": "ok",
          "timestamp": 1747594659159,
          "user_tz": -330,
          "elapsed": 7947,
          "user": {
            "displayName": "",
            "userId": ""
          }
        },
        "outputId": "8fc5f114-0df9-406a-92a9-a5f2c4c13b20"
      },
      "id": "b-BEtXJTi83w",
      "execution_count": 13,
      "outputs": [
        {
          "output_type": "display_data",
          "data": {
            "text/plain": [
              "<IPython.core.display.HTML object>"
            ],
            "text/html": [
              "Query job bd0642a2-c16d-4cc9-8b3c-7548b831e0fa is DONE. 71.9 MB processed. <a target=\"_blank\" href=\"https://console.cloud.google.com/bigquery?project=extreme-course-459207-v5&j=bq:asia-south2:bd0642a2-c16d-4cc9-8b3c-7548b831e0fa&page=queryresults\">Open Job</a>"
            ]
          },
          "metadata": {}
        }
      ]
    },
    {
      "cell_type": "code",
      "source": [
        "sample_op"
      ],
      "metadata": {
        "colab": {
          "base_uri": "https://localhost:8080/"
        },
        "id": "yu71RqqIj3wO",
        "executionInfo": {
          "status": "ok",
          "timestamp": 1747594662516,
          "user_tz": -330,
          "elapsed": 221,
          "user": {
            "displayName": "",
            "userId": ""
          }
        },
        "outputId": "d3b2ce47-4af9-4593-e6b4-f6592d2e9df8"
      },
      "id": "yu71RqqIj3wO",
      "execution_count": 14,
      "outputs": [
        {
          "output_type": "execute_result",
          "data": {
            "text/plain": [
              "{'parties': [{'name': 'GIRISH REHANI', 'role': 'Petitioner'},\n",
              "  {'name': 'KELTECH INFRATRUCTURE LIMITED', 'role': 'Respondent'}],\n",
              " 'facts': \"The petitioner, Girish Rehani, filed a petition under Section 29A(4) of the Arbitration and Conciliation Act 1996 seeking an extension of the mandate of the arbitrator currently handling the dispute between the parties. The arbitrator's mandate was set to expire on July 16, 2024, and a six-month extension was requested. The respondent, Keltech Infrastructure Limited, did not object to the extension.\",\n",
              " 'rulings': 'The court granted the petition and extended the mandate of the learned Arbitrator by six months, effective from July 16, 2024. The petition was disposed of accordingly.',\n",
              " 'legal_citations': ['Section 29A(4) of the Arbitration and Conciliation Act 1996']}"
            ]
          },
          "metadata": {},
          "execution_count": 14
        }
      ]
    },
    {
      "cell_type": "code",
      "source": [
        "import pandas_gbq\n",
        "from google.cloud import bigquery\n",
        "import pandas as pd\n",
        "import uuid  # Optional, if you prefer UUIDs instead of index as ID\n",
        "\n",
        "def process_and_store_judgements(df):\n",
        "    \"\"\"\n",
        "    Processes text column from the DataFrame, applies generate and str_to_dict functions,\n",
        "    and stores the results in a new BigQuery table with an added 'id' column.\n",
        "\n",
        "    Args:\n",
        "        df: BigFrames DataFrame containing the 'text' column.\n",
        "    \"\"\"\n",
        "\n",
        "    results = []\n",
        "    for index, row in df.iterrows():\n",
        "        try:\n",
        "            json_output = str_to_dict(generate(row['text']))\n",
        "            json_output[\"id\"] = str(uuid.uuid4())  # Alternatively, use index: json_output[\"id\"] = index\n",
        "            results.append(json_output)\n",
        "        except Exception as e:\n",
        "            print(f\"Error processing row {index}: {e}\")\n",
        "\n",
        "    # Convert the list of dictionaries to a Pandas DataFrame\n",
        "    results_df = pd.DataFrame(results)\n",
        "    return results_df\n"
      ],
      "metadata": {
        "id": "jnmcicM7j_Fz",
        "executionInfo": {
          "status": "ok",
          "timestamp": 1747595573135,
          "user_tz": -330,
          "elapsed": 291,
          "user": {
            "displayName": "",
            "userId": ""
          }
        }
      },
      "id": "jnmcicM7j_Fz",
      "execution_count": 19,
      "outputs": []
    },
    {
      "cell_type": "code",
      "source": [
        "def df_to_table(results_df):\n",
        "  # Define the schema for the BigQuery table\n",
        "    schema = [\n",
        "        bigquery.SchemaField(\"id\", bigquery.enums.SqlTypeNames.STRING),\n",
        "        bigquery.SchemaField(\"parties\", bigquery.enums.SqlTypeNames.RECORD, mode=\"REPEATED\", fields=[\n",
        "            bigquery.SchemaField(\"name\", bigquery.enums.SqlTypeNames.STRING),\n",
        "            bigquery.SchemaField(\"role\", bigquery.enums.SqlTypeNames.STRING)\n",
        "        ]),\n",
        "        bigquery.SchemaField(\"facts\", bigquery.enums.SqlTypeNames.STRING),\n",
        "        bigquery.SchemaField(\"rulings\", bigquery.enums.SqlTypeNames.STRING),\n",
        "        bigquery.SchemaField(\"legal_citations\", bigquery.enums.SqlTypeNames.STRING, mode=\"REPEATED\")\n",
        "    ]\n",
        "    job_config = bigquery.LoadJobConfig(\n",
        "    schema=schema,\n",
        "    write_disposition=\"WRITE_TRUNCATE\",\n",
        ")\n",
        "\n",
        "    # Write the DataFrame to BigQuery\n",
        "    client = bigquery.Client()\n",
        "\n",
        "    client.load_table_from_dataframe(\n",
        "        results_df,\n",
        "        \"extreme-course-459207-v5.legal_judgement_texts.extracted_judgements\",\n",
        "        job_config=job_config,\n",
        "        )"
      ],
      "metadata": {
        "id": "mxewiUMnzn6D",
        "executionInfo": {
          "status": "ok",
          "timestamp": 1747596239442,
          "user_tz": -330,
          "elapsed": 218,
          "user": {
            "displayName": "",
            "userId": ""
          }
        }
      },
      "id": "mxewiUMnzn6D",
      "execution_count": 27,
      "outputs": []
    },
    {
      "cell_type": "code",
      "source": [
        "# prompt: create a sample df with first 100 records\n",
        "\n",
        "sample_df = df.head(100).to_pandas()"
      ],
      "metadata": {
        "id": "lsYpdpWe6wJU",
        "colab": {
          "base_uri": "https://localhost:8080/",
          "height": 34
        },
        "executionInfo": {
          "status": "ok",
          "timestamp": 1747595583632,
          "user_tz": -330,
          "elapsed": 5213,
          "user": {
            "displayName": "",
            "userId": ""
          }
        },
        "outputId": "0ec26331-18f9-4502-e382-95d29561b27f"
      },
      "id": "lsYpdpWe6wJU",
      "execution_count": 21,
      "outputs": [
        {
          "output_type": "display_data",
          "data": {
            "text/plain": [
              "<IPython.core.display.HTML object>"
            ],
            "text/html": [
              "Query job 39ea4d8f-1381-4299-8eac-9576992fb608 is DONE. 71.9 MB processed. <a target=\"_blank\" href=\"https://console.cloud.google.com/bigquery?project=extreme-course-459207-v5&j=bq:asia-south2:39ea4d8f-1381-4299-8eac-9576992fb608&page=queryresults\">Open Job</a>"
            ]
          },
          "metadata": {}
        }
      ]
    },
    {
      "cell_type": "code",
      "source": [
        "result=process_and_store_judgements(sample_df)"
      ],
      "metadata": {
        "id": "Xkaj_a5blHGL",
        "executionInfo": {
          "status": "ok",
          "timestamp": 1747596010343,
          "user_tz": -330,
          "elapsed": 426713,
          "user": {
            "displayName": "",
            "userId": ""
          }
        }
      },
      "id": "Xkaj_a5blHGL",
      "execution_count": 22,
      "outputs": []
    },
    {
      "cell_type": "code",
      "source": [
        "result.head()"
      ],
      "metadata": {
        "colab": {
          "base_uri": "https://localhost:8080/",
          "height": 379
        },
        "id": "Hj1bWWir0F94",
        "executionInfo": {
          "status": "ok",
          "timestamp": 1747596041479,
          "user_tz": -330,
          "elapsed": 392,
          "user": {
            "displayName": "",
            "userId": ""
          }
        },
        "outputId": "43689145-1e87-4373-9e47-93909339ef28"
      },
      "id": "Hj1bWWir0F94",
      "execution_count": 23,
      "outputs": [
        {
          "output_type": "execute_result",
          "data": {
            "text/plain": [
              "                                             parties  \\\n",
              "0  [{'name': 'MASTER EKLAVYA KOCHHAR & ORS.', 'ro...   \n",
              "1  [{'name': 'GIRISH REHANI', 'role': 'Petitioner...   \n",
              "2  [{'name': 'TATA SONS PRIVATE LIMITED', 'role':...   \n",
              "3  [{'name': 'Jaswant Singh Juneja', 'role': 'Pet...   \n",
              "4  [{'name': 'SHRI CHANDRAJIT SAHA', 'role': 'Pet...   \n",
              "\n",
              "                                               facts  \\\n",
              "0  The Appellants filed an appeal challenging the...   \n",
              "1  The petitioner, Girish Rehani, filed a petitio...   \n",
              "2  Tata Sons Private Limited filed a suit against...   \n",
              "3  The petitioner, Jaswant Singh Juneja, propriet...   \n",
              "4  The respondent/complainant placed an order wit...   \n",
              "\n",
              "                                             rulings  \\\n",
              "0  The Court dismissed the appeal, upholding the ...   \n",
              "1  The court granted the petition and extended th...   \n",
              "2  The court ruled in favor of the plaintiff, Tat...   \n",
              "3  The court allowed the writ petition and quashe...   \n",
              "4  The court allowed the petition and quashed the...   \n",
              "\n",
              "                                     legal_citations  \\\n",
              "0  [W.P.(C) 6112/2020, C.M.No.41586/2024, W.P. (C...   \n",
              "1  [Section 29A(4) of the Arbitration and Concili...   \n",
              "2  [Indian Companies Act, 1913, Trade Marks Act, ...   \n",
              "3  [Income Tax Act, 1961, Section 148, Income Tax...   \n",
              "4  [Section 482 Cr.P.C., Sections 138/142 read wi...   \n",
              "\n",
              "                                     id  \n",
              "0  0bf2294f-3f5c-4739-8abe-bb13f66d2583  \n",
              "1  f00eddea-a05e-4ea2-aef2-715375bacf00  \n",
              "2  777903aa-8d70-4800-8e6e-936cf688e023  \n",
              "3  a4b5fb8b-309b-415b-868d-c75d72582bc9  \n",
              "4  e00af299-4030-4fde-a93c-40ebcf1162a7  "
            ],
            "text/html": [
              "\n",
              "  <div id=\"df-67996307-8dc7-4e95-9337-687ee2d16562\" class=\"colab-df-container\">\n",
              "    <div>\n",
              "<style scoped>\n",
              "    .dataframe tbody tr th:only-of-type {\n",
              "        vertical-align: middle;\n",
              "    }\n",
              "\n",
              "    .dataframe tbody tr th {\n",
              "        vertical-align: top;\n",
              "    }\n",
              "\n",
              "    .dataframe thead th {\n",
              "        text-align: right;\n",
              "    }\n",
              "</style>\n",
              "<table border=\"1\" class=\"dataframe\">\n",
              "  <thead>\n",
              "    <tr style=\"text-align: right;\">\n",
              "      <th></th>\n",
              "      <th>parties</th>\n",
              "      <th>facts</th>\n",
              "      <th>rulings</th>\n",
              "      <th>legal_citations</th>\n",
              "      <th>id</th>\n",
              "    </tr>\n",
              "  </thead>\n",
              "  <tbody>\n",
              "    <tr>\n",
              "      <th>0</th>\n",
              "      <td>[{'name': 'MASTER EKLAVYA KOCHHAR &amp; ORS.', 'ro...</td>\n",
              "      <td>The Appellants filed an appeal challenging the...</td>\n",
              "      <td>The Court dismissed the appeal, upholding the ...</td>\n",
              "      <td>[W.P.(C) 6112/2020, C.M.No.41586/2024, W.P. (C...</td>\n",
              "      <td>0bf2294f-3f5c-4739-8abe-bb13f66d2583</td>\n",
              "    </tr>\n",
              "    <tr>\n",
              "      <th>1</th>\n",
              "      <td>[{'name': 'GIRISH REHANI', 'role': 'Petitioner...</td>\n",
              "      <td>The petitioner, Girish Rehani, filed a petitio...</td>\n",
              "      <td>The court granted the petition and extended th...</td>\n",
              "      <td>[Section 29A(4) of the Arbitration and Concili...</td>\n",
              "      <td>f00eddea-a05e-4ea2-aef2-715375bacf00</td>\n",
              "    </tr>\n",
              "    <tr>\n",
              "      <th>2</th>\n",
              "      <td>[{'name': 'TATA SONS PRIVATE LIMITED', 'role':...</td>\n",
              "      <td>Tata Sons Private Limited filed a suit against...</td>\n",
              "      <td>The court ruled in favor of the plaintiff, Tat...</td>\n",
              "      <td>[Indian Companies Act, 1913, Trade Marks Act, ...</td>\n",
              "      <td>777903aa-8d70-4800-8e6e-936cf688e023</td>\n",
              "    </tr>\n",
              "    <tr>\n",
              "      <th>3</th>\n",
              "      <td>[{'name': 'Jaswant Singh Juneja', 'role': 'Pet...</td>\n",
              "      <td>The petitioner, Jaswant Singh Juneja, propriet...</td>\n",
              "      <td>The court allowed the writ petition and quashe...</td>\n",
              "      <td>[Income Tax Act, 1961, Section 148, Income Tax...</td>\n",
              "      <td>a4b5fb8b-309b-415b-868d-c75d72582bc9</td>\n",
              "    </tr>\n",
              "    <tr>\n",
              "      <th>4</th>\n",
              "      <td>[{'name': 'SHRI CHANDRAJIT SAHA', 'role': 'Pet...</td>\n",
              "      <td>The respondent/complainant placed an order wit...</td>\n",
              "      <td>The court allowed the petition and quashed the...</td>\n",
              "      <td>[Section 482 Cr.P.C., Sections 138/142 read wi...</td>\n",
              "      <td>e00af299-4030-4fde-a93c-40ebcf1162a7</td>\n",
              "    </tr>\n",
              "  </tbody>\n",
              "</table>\n",
              "</div>\n",
              "    <div class=\"colab-df-buttons\">\n",
              "\n",
              "  <div class=\"colab-df-container\">\n",
              "    <button class=\"colab-df-convert\" onclick=\"convertToInteractive('df-67996307-8dc7-4e95-9337-687ee2d16562')\"\n",
              "            title=\"Convert this dataframe to an interactive table.\"\n",
              "            style=\"display:none;\">\n",
              "\n",
              "  <svg xmlns=\"http://www.w3.org/2000/svg\" height=\"24px\" viewBox=\"0 -960 960 960\">\n",
              "    <path d=\"M120-120v-720h720v720H120Zm60-500h600v-160H180v160Zm220 220h160v-160H400v160Zm0 220h160v-160H400v160ZM180-400h160v-160H180v160Zm440 0h160v-160H620v160ZM180-180h160v-160H180v160Zm440 0h160v-160H620v160Z\"/>\n",
              "  </svg>\n",
              "    </button>\n",
              "\n",
              "  <style>\n",
              "    .colab-df-container {\n",
              "      display:flex;\n",
              "      gap: 12px;\n",
              "    }\n",
              "\n",
              "    .colab-df-convert {\n",
              "      background-color: #E8F0FE;\n",
              "      border: none;\n",
              "      border-radius: 50%;\n",
              "      cursor: pointer;\n",
              "      display: none;\n",
              "      fill: #1967D2;\n",
              "      height: 32px;\n",
              "      padding: 0 0 0 0;\n",
              "      width: 32px;\n",
              "    }\n",
              "\n",
              "    .colab-df-convert:hover {\n",
              "      background-color: #E2EBFA;\n",
              "      box-shadow: 0px 1px 2px rgba(60, 64, 67, 0.3), 0px 1px 3px 1px rgba(60, 64, 67, 0.15);\n",
              "      fill: #174EA6;\n",
              "    }\n",
              "\n",
              "    .colab-df-buttons div {\n",
              "      margin-bottom: 4px;\n",
              "    }\n",
              "\n",
              "    [theme=dark] .colab-df-convert {\n",
              "      background-color: #3B4455;\n",
              "      fill: #D2E3FC;\n",
              "    }\n",
              "\n",
              "    [theme=dark] .colab-df-convert:hover {\n",
              "      background-color: #434B5C;\n",
              "      box-shadow: 0px 1px 3px 1px rgba(0, 0, 0, 0.15);\n",
              "      filter: drop-shadow(0px 1px 2px rgba(0, 0, 0, 0.3));\n",
              "      fill: #FFFFFF;\n",
              "    }\n",
              "  </style>\n",
              "\n",
              "    <script>\n",
              "      const buttonEl =\n",
              "        document.querySelector('#df-67996307-8dc7-4e95-9337-687ee2d16562 button.colab-df-convert');\n",
              "      buttonEl.style.display =\n",
              "        google.colab.kernel.accessAllowed ? 'block' : 'none';\n",
              "\n",
              "      async function convertToInteractive(key) {\n",
              "        const element = document.querySelector('#df-67996307-8dc7-4e95-9337-687ee2d16562');\n",
              "        const dataTable =\n",
              "          await google.colab.kernel.invokeFunction('convertToInteractive',\n",
              "                                                    [key], {});\n",
              "        if (!dataTable) return;\n",
              "\n",
              "        const docLinkHtml = 'Like what you see? Visit the ' +\n",
              "          '<a target=\"_blank\" href=https://colab.research.google.com/notebooks/data_table.ipynb>data table notebook</a>'\n",
              "          + ' to learn more about interactive tables.';\n",
              "        element.innerHTML = '';\n",
              "        dataTable['output_type'] = 'display_data';\n",
              "        await google.colab.output.renderOutput(dataTable, element);\n",
              "        const docLink = document.createElement('div');\n",
              "        docLink.innerHTML = docLinkHtml;\n",
              "        element.appendChild(docLink);\n",
              "      }\n",
              "    </script>\n",
              "  </div>\n",
              "\n",
              "\n",
              "<div id=\"df-8bb1bcd0-5676-4ae8-93df-275b2bea124e\">\n",
              "  <button class=\"colab-df-quickchart\" onclick=\"quickchart('df-8bb1bcd0-5676-4ae8-93df-275b2bea124e')\"\n",
              "            title=\"Suggest charts\"\n",
              "            style=\"display:none;\">\n",
              "\n",
              "<svg xmlns=\"http://www.w3.org/2000/svg\" height=\"24px\"viewBox=\"0 0 24 24\"\n",
              "     width=\"24px\">\n",
              "    <g>\n",
              "        <path d=\"M19 3H5c-1.1 0-2 .9-2 2v14c0 1.1.9 2 2 2h14c1.1 0 2-.9 2-2V5c0-1.1-.9-2-2-2zM9 17H7v-7h2v7zm4 0h-2V7h2v10zm4 0h-2v-4h2v4z\"/>\n",
              "    </g>\n",
              "</svg>\n",
              "  </button>\n",
              "\n",
              "<style>\n",
              "  .colab-df-quickchart {\n",
              "      --bg-color: #E8F0FE;\n",
              "      --fill-color: #1967D2;\n",
              "      --hover-bg-color: #E2EBFA;\n",
              "      --hover-fill-color: #174EA6;\n",
              "      --disabled-fill-color: #AAA;\n",
              "      --disabled-bg-color: #DDD;\n",
              "  }\n",
              "\n",
              "  [theme=dark] .colab-df-quickchart {\n",
              "      --bg-color: #3B4455;\n",
              "      --fill-color: #D2E3FC;\n",
              "      --hover-bg-color: #434B5C;\n",
              "      --hover-fill-color: #FFFFFF;\n",
              "      --disabled-bg-color: #3B4455;\n",
              "      --disabled-fill-color: #666;\n",
              "  }\n",
              "\n",
              "  .colab-df-quickchart {\n",
              "    background-color: var(--bg-color);\n",
              "    border: none;\n",
              "    border-radius: 50%;\n",
              "    cursor: pointer;\n",
              "    display: none;\n",
              "    fill: var(--fill-color);\n",
              "    height: 32px;\n",
              "    padding: 0;\n",
              "    width: 32px;\n",
              "  }\n",
              "\n",
              "  .colab-df-quickchart:hover {\n",
              "    background-color: var(--hover-bg-color);\n",
              "    box-shadow: 0 1px 2px rgba(60, 64, 67, 0.3), 0 1px 3px 1px rgba(60, 64, 67, 0.15);\n",
              "    fill: var(--button-hover-fill-color);\n",
              "  }\n",
              "\n",
              "  .colab-df-quickchart-complete:disabled,\n",
              "  .colab-df-quickchart-complete:disabled:hover {\n",
              "    background-color: var(--disabled-bg-color);\n",
              "    fill: var(--disabled-fill-color);\n",
              "    box-shadow: none;\n",
              "  }\n",
              "\n",
              "  .colab-df-spinner {\n",
              "    border: 2px solid var(--fill-color);\n",
              "    border-color: transparent;\n",
              "    border-bottom-color: var(--fill-color);\n",
              "    animation:\n",
              "      spin 1s steps(1) infinite;\n",
              "  }\n",
              "\n",
              "  @keyframes spin {\n",
              "    0% {\n",
              "      border-color: transparent;\n",
              "      border-bottom-color: var(--fill-color);\n",
              "      border-left-color: var(--fill-color);\n",
              "    }\n",
              "    20% {\n",
              "      border-color: transparent;\n",
              "      border-left-color: var(--fill-color);\n",
              "      border-top-color: var(--fill-color);\n",
              "    }\n",
              "    30% {\n",
              "      border-color: transparent;\n",
              "      border-left-color: var(--fill-color);\n",
              "      border-top-color: var(--fill-color);\n",
              "      border-right-color: var(--fill-color);\n",
              "    }\n",
              "    40% {\n",
              "      border-color: transparent;\n",
              "      border-right-color: var(--fill-color);\n",
              "      border-top-color: var(--fill-color);\n",
              "    }\n",
              "    60% {\n",
              "      border-color: transparent;\n",
              "      border-right-color: var(--fill-color);\n",
              "    }\n",
              "    80% {\n",
              "      border-color: transparent;\n",
              "      border-right-color: var(--fill-color);\n",
              "      border-bottom-color: var(--fill-color);\n",
              "    }\n",
              "    90% {\n",
              "      border-color: transparent;\n",
              "      border-bottom-color: var(--fill-color);\n",
              "    }\n",
              "  }\n",
              "</style>\n",
              "\n",
              "  <script>\n",
              "    async function quickchart(key) {\n",
              "      const quickchartButtonEl =\n",
              "        document.querySelector('#' + key + ' button');\n",
              "      quickchartButtonEl.disabled = true;  // To prevent multiple clicks.\n",
              "      quickchartButtonEl.classList.add('colab-df-spinner');\n",
              "      try {\n",
              "        const charts = await google.colab.kernel.invokeFunction(\n",
              "            'suggestCharts', [key], {});\n",
              "      } catch (error) {\n",
              "        console.error('Error during call to suggestCharts:', error);\n",
              "      }\n",
              "      quickchartButtonEl.classList.remove('colab-df-spinner');\n",
              "      quickchartButtonEl.classList.add('colab-df-quickchart-complete');\n",
              "    }\n",
              "    (() => {\n",
              "      let quickchartButtonEl =\n",
              "        document.querySelector('#df-8bb1bcd0-5676-4ae8-93df-275b2bea124e button');\n",
              "      quickchartButtonEl.style.display =\n",
              "        google.colab.kernel.accessAllowed ? 'block' : 'none';\n",
              "    })();\n",
              "  </script>\n",
              "</div>\n",
              "\n",
              "    </div>\n",
              "  </div>\n"
            ],
            "application/vnd.google.colaboratory.intrinsic+json": {
              "type": "dataframe",
              "variable_name": "result",
              "summary": "{\n  \"name\": \"result\",\n  \"rows\": 100,\n  \"fields\": [\n    {\n      \"column\": \"parties\",\n      \"properties\": {\n        \"dtype\": \"object\",\n        \"semantic_type\": \"\",\n        \"description\": \"\"\n      }\n    },\n    {\n      \"column\": \"facts\",\n      \"properties\": {\n        \"dtype\": \"string\",\n        \"num_unique_values\": 100,\n        \"samples\": [\n          \"The respondent filed an application under Section 23 of the Protection of Women from Domestic Violence Act, 2005, seeking interim maintenance. The Metropolitan Magistrate granted interim maintenance of \\u20b953,000/- per month (\\u20b925,000/- to the respondent, \\u20b96,000 to each of the three children, and \\u20b910,000/- towards rent). The petitioner appealed this order, but the Additional Sessions Judge dismissed the appeal. The petitioner then filed a revision petition challenging both orders, arguing that the respondent is well-qualified and can maintain herself, and that the interim maintenance of \\u20b925,000/- to the respondent is unreasonable. The court noted discrepancies in the petitioner's claimed income versus his expenditures and lifestyle.\",\n          \"The petitioners challenged the findings and opinion dated 15.09.2022 of the Court of Inquiry, the Order dated 19.12.2022 passed by the Inspector General, North-West Frontier, Indo Tibetan Border Police (\\u2018ITBP\\u2019); and the Order dated 15.06.2023 passed by the Deputy Inspector General (\\u2018DIG\\u2019), ITBP, directing initiation of recovery against the petitioners based on the Court of Inquiry report. The Director General (\\u2018DG\\u2019), ITBP, passed an order on 13.12.2024 setting aside the Court of Inquiry's proceedings and findings due to violations of ITBPF Rules and quashing related orders. The DG, ITBP directed that the amount already recovered from the officers involved/petitioners be refunded forthwith and also directed issuance of an \\u2018advisory\\u2019 to the officers involved.\",\n          \"The P.T.M. Teacher Training Institute's recognition for its D.El.Ed course was withdrawn by the Southern Regional Committee (SRC) due to the institute's failure to file its Performance Appraisal Report (PAR) within the stipulated time. The institute appealed this decision to the National Council for Teacher Education (NCTE), but the appeal was rejected. The institute then filed a writ petition before the Delhi High Court seeking to quash the withdrawal order and the rejection of its appeal, and seeking permission to admit students for the 2024-25 academic session. The respondents argued that the institute failed to comply with mandatory requirements, including maintaining a functional website and submitting the PAR. The court considered the fact that the requirement to submit a PAR was subject to ongoing litigation, with the Supreme Court having stayed a Division Bench order that had set aside the public notice mandating the PAR.\"\n        ],\n        \"semantic_type\": \"\",\n        \"description\": \"\"\n      }\n    },\n    {\n      \"column\": \"rulings\",\n      \"properties\": {\n        \"dtype\": \"string\",\n        \"num_unique_values\": 100,\n        \"samples\": [\n          \"The court dismissed the revision petition, upholding the interim maintenance order of \\u20b953,000/- per month. The court found no reason to interfere with the concurrent findings of the lower courts, considering the respondent's responsibility for three children and the petitioner's apparent financial capacity. The Trial Court is directed to pass the final order uninfluenced by the observations made in the order dated 20.12.2022 or in this order.\",\n          \"The Court disposed of the petitions, directing that the amount already recovered from the petitioners be refunded within four weeks. The Court stated that if the petitioners are aggrieved by the decision to issue an \\u2018advisory\\u2019, they can challenge it in accordance with the law. As the prayers made in the petitions have been granted by the respondents themselves, nothing further survives in these petitions.\",\n          \"The court dismissed the petitioner's application for interim relief, stating that the institute could not be granted interim relief at this stage because the operation of the judgment of the Division Bench of this Court has been stayed which means that the directions contained in the conclusion of the said judgment has been stayed. Therefore, in this Court\\u2019s opinion there is no doubt about the legal position in the present case that since the operation of the judgment of the Hon\\u2019ble Division Bench has been stayed, it is the operation of the entire judgment including the conclusion of setting aside of the Notification in question has been stayed by the Hon\\u2019ble Apex Court. Therefore, this Court is bound by the decision of the Hon\\u2019ble Apex Court and cannot even for grant of interim relief, allow, which has been specifically stayed by the Hon\\u2019ble Apex Court.\"\n        ],\n        \"semantic_type\": \"\",\n        \"description\": \"\"\n      }\n    },\n    {\n      \"column\": \"legal_citations\",\n      \"properties\": {\n        \"dtype\": \"object\",\n        \"semantic_type\": \"\",\n        \"description\": \"\"\n      }\n    },\n    {\n      \"column\": \"id\",\n      \"properties\": {\n        \"dtype\": \"string\",\n        \"num_unique_values\": 100,\n        \"samples\": [\n          \"eb988e4d-f438-431f-a483-c6a5091885d0\",\n          \"e3891d5c-523a-44e0-b0fe-958f16653fb6\",\n          \"589138e8-57d9-4605-92e0-4a87ef77f25f\"\n        ],\n        \"semantic_type\": \"\",\n        \"description\": \"\"\n      }\n    }\n  ]\n}"
            }
          },
          "metadata": {},
          "execution_count": 23
        }
      ]
    },
    {
      "cell_type": "code",
      "source": [
        "df_to_table(result)"
      ],
      "metadata": {
        "id": "a-0lAZFM0G0c",
        "executionInfo": {
          "status": "ok",
          "timestamp": 1747596242604,
          "user_tz": -330,
          "elapsed": 1194,
          "user": {
            "displayName": "",
            "userId": ""
          }
        }
      },
      "id": "a-0lAZFM0G0c",
      "execution_count": 28,
      "outputs": []
    }
  ],
  "metadata": {
    "kernelspec": {
      "display_name": "Python 3",
      "language": "python",
      "name": "python3"
    },
    "language_info": {
      "codemirror_mode": {
        "name": "ipython",
        "version": 3
      },
      "file_extension": ".py",
      "mimetype": "text/x-python",
      "name": "python",
      "nbconvert_exporter": "python",
      "pygments_lexer": "ipython3",
      "version": "3.10.10"
    },
    "colab": {
      "provenance": [],
      "name": "Legal Judgement Information Extraction",
      "collapsed_sections": [
        "vTKIr7ONALnx"
      ]
    }
  },
  "nbformat": 4,
  "nbformat_minor": 5
}